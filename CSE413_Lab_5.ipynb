{
  "cells": [
    {
      "cell_type": "markdown",
      "metadata": {
        "id": "pHZjdivBdY8c"
      },
      "source": [
        "#**Resilient Distributed Dataset (RDD)**"
      ]
    },
    {
      "cell_type": "code",
      "execution_count": null,
      "metadata": {
        "id": "tpPq0fiBdTy_"
      },
      "outputs": [],
      "source": [
        "#Installation\n",
        "!apt-get install openjdk-8-jdk-headless -qq > /dev/null\n",
        "!wget -q http://archive.apache.org/dist/spark/spark-3.1.1/spark-3.1.1-bin-hadoop3.2.tgz\n",
        "!tar xf spark-3.1.1-bin-hadoop3.2.tgz\n",
        "!pip install -q findspark\n",
        "\n",
        "import os\n",
        "os.environ[\"JAVA_HOME\"] = \"/usr/lib/jvm/java-8-openjdk-amd64\"\n",
        "os.environ[\"SPARK_HOME\"] = \"/content/spark-3.1.1-bin-hadoop3.2\""
      ]
    },
    {
      "cell_type": "code",
      "execution_count": null,
      "metadata": {
        "id": "uVHklIqSdsMq"
      },
      "outputs": [],
      "source": [
        "#spark\n",
        "import findspark\n",
        "findspark.init()"
      ]
    },
    {
      "cell_type": "code",
      "execution_count": null,
      "metadata": {
        "id": "BQI5RCqZduTq"
      },
      "outputs": [],
      "source": [
        "#Creating Session\n",
        "from pyspark.sql import SparkSession\n",
        "spark = SparkSession.builder.appName(\"RDDwithPyspark\").getOrCreate()"
      ]
    },
    {
      "cell_type": "code",
      "source": [
        "#RDD creation\n",
        "data = [1,2,3,4,5,6,7,8,9,10,11,12,13,14,15,16,17,18,19,20]\n",
        "rdd = spark.sparkContext.parallelize(data)\n",
        "rdd.collect()"
      ],
      "metadata": {
        "colab": {
          "base_uri": "https://localhost:8080/"
        },
        "id": "e2B5m7qVBkBB",
        "outputId": "8c52c715-47f8-409f-b3ee-8edd30d3d898"
      },
      "execution_count": null,
      "outputs": [
        {
          "output_type": "execute_result",
          "data": {
            "text/plain": [
              "[1, 2, 3, 4, 5, 6, 7, 8, 9, 10, 11, 12, 13, 14, 15, 16, 17, 18, 19, 20]"
            ]
          },
          "metadata": {},
          "execution_count": 4
        }
      ]
    },
    {
      "cell_type": "code",
      "source": [
        "#Taking first five elements\n",
        "first_five = rdd.take(5)\n",
        "first_five"
      ],
      "metadata": {
        "colab": {
          "base_uri": "https://localhost:8080/"
        },
        "id": "WWp5ZxfYB1To",
        "outputId": "bb1c0ba0-9c56-401d-d099-773c65ba27ed"
      },
      "execution_count": null,
      "outputs": [
        {
          "output_type": "execute_result",
          "data": {
            "text/plain": [
              "[1, 2, 3, 4, 5]"
            ]
          },
          "metadata": {},
          "execution_count": 5
        }
      ]
    },
    {
      "cell_type": "code",
      "source": [
        "#Taking only first element\n",
        "first_only = rdd.first()\n",
        "first_only"
      ],
      "metadata": {
        "colab": {
          "base_uri": "https://localhost:8080/"
        },
        "id": "avRqOHOhCGlX",
        "outputId": "be582cc9-3597-4969-ee46-ae2b7f0d0af2"
      },
      "execution_count": null,
      "outputs": [
        {
          "output_type": "execute_result",
          "data": {
            "text/plain": [
              "1"
            ]
          },
          "metadata": {},
          "execution_count": 6
        }
      ]
    },
    {
      "cell_type": "code",
      "source": [
        "#Showing all the values in each partitions\n",
        "rdd_collection = rdd.glom().collect()\n",
        "rdd_collection"
      ],
      "metadata": {
        "colab": {
          "base_uri": "https://localhost:8080/"
        },
        "id": "NG1P7XWXB5pQ",
        "outputId": "9bf45d03-1894-42f0-8e91-7c209152cb1e"
      },
      "execution_count": null,
      "outputs": [
        {
          "output_type": "execute_result",
          "data": {
            "text/plain": [
              "[[1, 2, 3, 4, 5, 6, 7, 8, 9, 10], [11, 12, 13, 14, 15, 16, 17, 18, 19, 20]]"
            ]
          },
          "metadata": {},
          "execution_count": 7
        }
      ]
    },
    {
      "cell_type": "code",
      "source": [
        "#Getting number of partition count\n",
        "partition_count = rdd.getNumPartitions()\n",
        "partition_count"
      ],
      "metadata": {
        "colab": {
          "base_uri": "https://localhost:8080/"
        },
        "id": "ghT00D3hCNq_",
        "outputId": "7d8762e6-fe47-4b12-e2e7-19b38c2076b6"
      },
      "execution_count": null,
      "outputs": [
        {
          "output_type": "execute_result",
          "data": {
            "text/plain": [
              "2"
            ]
          },
          "metadata": {},
          "execution_count": 8
        }
      ]
    },
    {
      "cell_type": "code",
      "source": [
        "#Using np.arange() function to create RDD\n",
        "import numpy as np\n",
        "data2 = np.arange(0,40,2)\n",
        "rdd2 = spark.sparkContext.parallelize(data2, 5)\n",
        "rdd2_collection = rdd2.glom().collect()\n",
        "rdd2_collection"
      ],
      "metadata": {
        "colab": {
          "base_uri": "https://localhost:8080/"
        },
        "id": "CaaYKnVVCdzQ",
        "outputId": "24ba113e-be76-4152-8fb1-5b14bc85c949"
      },
      "execution_count": null,
      "outputs": [
        {
          "output_type": "execute_result",
          "data": {
            "text/plain": [
              "[[0, 2, 4, 6],\n",
              " [8, 10, 12, 14],\n",
              " [16, 18, 20, 22],\n",
              " [24, 26, 28, 30],\n",
              " [32, 34, 36, 38]]"
            ]
          },
          "metadata": {},
          "execution_count": 9
        }
      ]
    },
    {
      "cell_type": "code",
      "source": [
        "#Union Operation\n",
        "data1 = np.arange(0,20,5)\n",
        "data2 = np.arange(0,20,3)\n",
        "rdd3 = spark.sparkContext.parallelize(data1)\n",
        "rdd4 = spark.sparkContext.parallelize(data2)\n",
        "rdd_union = rdd3.union(rdd4)\n",
        "print(rdd_union.collect())\n"
      ],
      "metadata": {
        "colab": {
          "base_uri": "https://localhost:8080/"
        },
        "id": "xYfBO8DYIdvY",
        "outputId": "d73ff245-17ce-489a-813a-a6f402e85474"
      },
      "execution_count": null,
      "outputs": [
        {
          "output_type": "stream",
          "name": "stdout",
          "text": [
            "[0, 5, 10, 15, 0, 3, 6, 9, 12, 15, 18]\n"
          ]
        }
      ]
    },
    {
      "cell_type": "code",
      "source": [
        "#Intersection Operation\n",
        "rdd_intersection = rdd3.intersection(rdd4)\n",
        "print(rdd_intersection.collect())"
      ],
      "metadata": {
        "colab": {
          "base_uri": "https://localhost:8080/"
        },
        "id": "iYmoVO33JbbI",
        "outputId": "0de1b4c7-6133-4f65-ae42-2a5aa59f44c2"
      },
      "execution_count": null,
      "outputs": [
        {
          "output_type": "stream",
          "name": "stdout",
          "text": [
            "[0, 15]\n"
          ]
        }
      ]
    },
    {
      "cell_type": "code",
      "source": [
        "#Subtraction\n",
        "rdd_subtract = rdd3.subtract(rdd4)\n",
        "print(rdd_subtract.collect())"
      ],
      "metadata": {
        "colab": {
          "base_uri": "https://localhost:8080/"
        },
        "id": "o1lhCq07JduG",
        "outputId": "5adb06b0-3a3a-4d83-ecc0-d6d46a0864ef"
      },
      "execution_count": null,
      "outputs": [
        {
          "output_type": "stream",
          "name": "stdout",
          "text": [
            "[5, 10]\n"
          ]
        }
      ]
    },
    {
      "cell_type": "code",
      "source": [
        "#Cartesian Product\n",
        "rdd_cartesian = rdd3.cartesian(rdd4)\n",
        "print(rdd_cartesian.collect())"
      ],
      "metadata": {
        "colab": {
          "base_uri": "https://localhost:8080/"
        },
        "id": "P2mn1RgSJoLF",
        "outputId": "9500f5a8-a698-44fb-cf50-4016b3b8b7f8"
      },
      "execution_count": null,
      "outputs": [
        {
          "output_type": "stream",
          "name": "stdout",
          "text": [
            "[(0, 0), (0, 3), (0, 6), (5, 0), (5, 3), (5, 6), (0, 9), (0, 12), (0, 15), (5, 9), (5, 12), (5, 15), (0, 18), (5, 18), (10, 0), (10, 3), (10, 6), (15, 0), (15, 3), (15, 6), (10, 9), (10, 12), (10, 15), (15, 9), (15, 12), (15, 15), (10, 18), (15, 18)]\n"
          ]
        }
      ]
    },
    {
      "cell_type": "code",
      "source": [
        "#Join\n",
        "j1_rdd = spark.sparkContext.parallelize([(\"a\", 1), (\"b\", 2), (\"c\", 3)])\n",
        "j2_rdd = spark.sparkContext.parallelize([(\"a\", \"aa\"), (\"b\", \"bb\"), (\"d\", \"dd\")])\n",
        "join_result = j1_rdd.join(j2_rdd)\n",
        "join_result.collect()"
      ],
      "metadata": {
        "colab": {
          "base_uri": "https://localhost:8080/"
        },
        "id": "Y4ADkpQ5JvO2",
        "outputId": "07c54e67-4b59-4d99-83ce-4b200664e872"
      },
      "execution_count": null,
      "outputs": [
        {
          "output_type": "execute_result",
          "data": {
            "text/plain": [
              "[('b', (2, 'bb')), ('a', (1, 'aa'))]"
            ]
          },
          "metadata": {},
          "execution_count": 14
        }
      ]
    },
    {
      "cell_type": "markdown",
      "source": [
        "# **Working with Text Dataset**"
      ],
      "metadata": {
        "id": "EGcDtmBiezQB"
      }
    },
    {
      "cell_type": "code",
      "source": [
        "#Loading and Creatinf RDD from text file\n",
        "path = \"/content/lorem.txt\"\n",
        "text_rdd = spark.sparkContext.textFile(path, 5)\n",
        "text_rdd.collect()\n",
        "print(text_rdd.glom().collect())\n",
        "print(text_rdd.getNumPartitions())"
      ],
      "metadata": {
        "colab": {
          "base_uri": "https://localhost:8080/"
        },
        "id": "mBNQ2RDBDFDn",
        "outputId": "dcfd5223-dc03-4dea-a73a-153a5cdea409"
      },
      "execution_count": null,
      "outputs": [
        {
          "output_type": "stream",
          "name": "stdout",
          "text": [
            "[['A big-data journey must strike a balance between data supply (data management) and information demand (managers asking for different information or more-timely updates). ', 'The aim of any big data project must be to add business value — by enabling cost reductions, productivity gains, or revenue increases. Many older big data projects never reached the point where they were adding value. '], ['For example, it is not unusual to find projects based on plant historians that accumulate data for years without business or operational managers taking full advantage of the data through analytics.'], ['', 'Any data with unknown form or the structure is classified as unstructured data. ', 'In addition to the size being huge, un-structured data poses multiple challenges in terms of its processing for deriving value out of it. A typical example of unstructured data is a heterogeneous data source containing a combination of simple text files, images, videos etc. '], [], ['Now day organizations have wealth of data available with them but unfortunately, they don’t know how to derive value out of it since this data is in its raw form or unstructured format.']]\n",
            "5\n"
          ]
        }
      ]
    },
    {
      "cell_type": "code",
      "source": [
        "#Using map() function to create splitted result\n",
        "splitted_text_rdd = text_rdd.map(lambda line: line.split())\n",
        "splitted_text_rdd.collect()"
      ],
      "metadata": {
        "colab": {
          "base_uri": "https://localhost:8080/"
        },
        "id": "M1qQ4TMEDgwO",
        "outputId": "ae39946c-0851-40a6-9066-8e46d1858398"
      },
      "execution_count": null,
      "outputs": [
        {
          "output_type": "execute_result",
          "data": {
            "text/plain": [
              "[['A',\n",
              "  'big-data',\n",
              "  'journey',\n",
              "  'must',\n",
              "  'strike',\n",
              "  'a',\n",
              "  'balance',\n",
              "  'between',\n",
              "  'data',\n",
              "  'supply',\n",
              "  '(data',\n",
              "  'management)',\n",
              "  'and',\n",
              "  'information',\n",
              "  'demand',\n",
              "  '(managers',\n",
              "  'asking',\n",
              "  'for',\n",
              "  'different',\n",
              "  'information',\n",
              "  'or',\n",
              "  'more-timely',\n",
              "  'updates).'],\n",
              " ['The',\n",
              "  'aim',\n",
              "  'of',\n",
              "  'any',\n",
              "  'big',\n",
              "  'data',\n",
              "  'project',\n",
              "  'must',\n",
              "  'be',\n",
              "  'to',\n",
              "  'add',\n",
              "  'business',\n",
              "  'value',\n",
              "  '—',\n",
              "  'by',\n",
              "  'enabling',\n",
              "  'cost',\n",
              "  'reductions,',\n",
              "  'productivity',\n",
              "  'gains,',\n",
              "  'or',\n",
              "  'revenue',\n",
              "  'increases.',\n",
              "  'Many',\n",
              "  'older',\n",
              "  'big',\n",
              "  'data',\n",
              "  'projects',\n",
              "  'never',\n",
              "  'reached',\n",
              "  'the',\n",
              "  'point',\n",
              "  'where',\n",
              "  'they',\n",
              "  'were',\n",
              "  'adding',\n",
              "  'value.'],\n",
              " ['For',\n",
              "  'example,',\n",
              "  'it',\n",
              "  'is',\n",
              "  'not',\n",
              "  'unusual',\n",
              "  'to',\n",
              "  'find',\n",
              "  'projects',\n",
              "  'based',\n",
              "  'on',\n",
              "  'plant',\n",
              "  'historians',\n",
              "  'that',\n",
              "  'accumulate',\n",
              "  'data',\n",
              "  'for',\n",
              "  'years',\n",
              "  'without',\n",
              "  'business',\n",
              "  'or',\n",
              "  'operational',\n",
              "  'managers',\n",
              "  'taking',\n",
              "  'full',\n",
              "  'advantage',\n",
              "  'of',\n",
              "  'the',\n",
              "  'data',\n",
              "  'through',\n",
              "  'analytics.'],\n",
              " [],\n",
              " ['Any',\n",
              "  'data',\n",
              "  'with',\n",
              "  'unknown',\n",
              "  'form',\n",
              "  'or',\n",
              "  'the',\n",
              "  'structure',\n",
              "  'is',\n",
              "  'classified',\n",
              "  'as',\n",
              "  'unstructured',\n",
              "  'data.'],\n",
              " ['In',\n",
              "  'addition',\n",
              "  'to',\n",
              "  'the',\n",
              "  'size',\n",
              "  'being',\n",
              "  'huge,',\n",
              "  'un-structured',\n",
              "  'data',\n",
              "  'poses',\n",
              "  'multiple',\n",
              "  'challenges',\n",
              "  'in',\n",
              "  'terms',\n",
              "  'of',\n",
              "  'its',\n",
              "  'processing',\n",
              "  'for',\n",
              "  'deriving',\n",
              "  'value',\n",
              "  'out',\n",
              "  'of',\n",
              "  'it.',\n",
              "  'A',\n",
              "  'typical',\n",
              "  'example',\n",
              "  'of',\n",
              "  'unstructured',\n",
              "  'data',\n",
              "  'is',\n",
              "  'a',\n",
              "  'heterogeneous',\n",
              "  'data',\n",
              "  'source',\n",
              "  'containing',\n",
              "  'a',\n",
              "  'combination',\n",
              "  'of',\n",
              "  'simple',\n",
              "  'text',\n",
              "  'files,',\n",
              "  'images,',\n",
              "  'videos',\n",
              "  'etc.'],\n",
              " ['Now',\n",
              "  'day',\n",
              "  'organizations',\n",
              "  'have',\n",
              "  'wealth',\n",
              "  'of',\n",
              "  'data',\n",
              "  'available',\n",
              "  'with',\n",
              "  'them',\n",
              "  'but',\n",
              "  'unfortunately,',\n",
              "  'they',\n",
              "  'don’t',\n",
              "  'know',\n",
              "  'how',\n",
              "  'to',\n",
              "  'derive',\n",
              "  'value',\n",
              "  'out',\n",
              "  'of',\n",
              "  'it',\n",
              "  'since',\n",
              "  'this',\n",
              "  'data',\n",
              "  'is',\n",
              "  'in',\n",
              "  'its',\n",
              "  'raw',\n",
              "  'form',\n",
              "  'or',\n",
              "  'unstructured',\n",
              "  'format.']]"
            ]
          },
          "metadata": {},
          "execution_count": 16
        }
      ]
    },
    {
      "cell_type": "code",
      "source": [
        "#Use of flatMap() funciton\n",
        "flat_splitted_text_rdd = text_rdd.flatMap(lambda line: line.split())\n",
        "flat_splitted_text_rdd.collect()"
      ],
      "metadata": {
        "colab": {
          "base_uri": "https://localhost:8080/"
        },
        "id": "pSP-LoyKEfj1",
        "outputId": "7b98a6c0-84ab-42a9-9557-be71af080dbd"
      },
      "execution_count": null,
      "outputs": [
        {
          "output_type": "execute_result",
          "data": {
            "text/plain": [
              "['A',\n",
              " 'big-data',\n",
              " 'journey',\n",
              " 'must',\n",
              " 'strike',\n",
              " 'a',\n",
              " 'balance',\n",
              " 'between',\n",
              " 'data',\n",
              " 'supply',\n",
              " '(data',\n",
              " 'management)',\n",
              " 'and',\n",
              " 'information',\n",
              " 'demand',\n",
              " '(managers',\n",
              " 'asking',\n",
              " 'for',\n",
              " 'different',\n",
              " 'information',\n",
              " 'or',\n",
              " 'more-timely',\n",
              " 'updates).',\n",
              " 'The',\n",
              " 'aim',\n",
              " 'of',\n",
              " 'any',\n",
              " 'big',\n",
              " 'data',\n",
              " 'project',\n",
              " 'must',\n",
              " 'be',\n",
              " 'to',\n",
              " 'add',\n",
              " 'business',\n",
              " 'value',\n",
              " '—',\n",
              " 'by',\n",
              " 'enabling',\n",
              " 'cost',\n",
              " 'reductions,',\n",
              " 'productivity',\n",
              " 'gains,',\n",
              " 'or',\n",
              " 'revenue',\n",
              " 'increases.',\n",
              " 'Many',\n",
              " 'older',\n",
              " 'big',\n",
              " 'data',\n",
              " 'projects',\n",
              " 'never',\n",
              " 'reached',\n",
              " 'the',\n",
              " 'point',\n",
              " 'where',\n",
              " 'they',\n",
              " 'were',\n",
              " 'adding',\n",
              " 'value.',\n",
              " 'For',\n",
              " 'example,',\n",
              " 'it',\n",
              " 'is',\n",
              " 'not',\n",
              " 'unusual',\n",
              " 'to',\n",
              " 'find',\n",
              " 'projects',\n",
              " 'based',\n",
              " 'on',\n",
              " 'plant',\n",
              " 'historians',\n",
              " 'that',\n",
              " 'accumulate',\n",
              " 'data',\n",
              " 'for',\n",
              " 'years',\n",
              " 'without',\n",
              " 'business',\n",
              " 'or',\n",
              " 'operational',\n",
              " 'managers',\n",
              " 'taking',\n",
              " 'full',\n",
              " 'advantage',\n",
              " 'of',\n",
              " 'the',\n",
              " 'data',\n",
              " 'through',\n",
              " 'analytics.',\n",
              " 'Any',\n",
              " 'data',\n",
              " 'with',\n",
              " 'unknown',\n",
              " 'form',\n",
              " 'or',\n",
              " 'the',\n",
              " 'structure',\n",
              " 'is',\n",
              " 'classified',\n",
              " 'as',\n",
              " 'unstructured',\n",
              " 'data.',\n",
              " 'In',\n",
              " 'addition',\n",
              " 'to',\n",
              " 'the',\n",
              " 'size',\n",
              " 'being',\n",
              " 'huge,',\n",
              " 'un-structured',\n",
              " 'data',\n",
              " 'poses',\n",
              " 'multiple',\n",
              " 'challenges',\n",
              " 'in',\n",
              " 'terms',\n",
              " 'of',\n",
              " 'its',\n",
              " 'processing',\n",
              " 'for',\n",
              " 'deriving',\n",
              " 'value',\n",
              " 'out',\n",
              " 'of',\n",
              " 'it.',\n",
              " 'A',\n",
              " 'typical',\n",
              " 'example',\n",
              " 'of',\n",
              " 'unstructured',\n",
              " 'data',\n",
              " 'is',\n",
              " 'a',\n",
              " 'heterogeneous',\n",
              " 'data',\n",
              " 'source',\n",
              " 'containing',\n",
              " 'a',\n",
              " 'combination',\n",
              " 'of',\n",
              " 'simple',\n",
              " 'text',\n",
              " 'files,',\n",
              " 'images,',\n",
              " 'videos',\n",
              " 'etc.',\n",
              " 'Now',\n",
              " 'day',\n",
              " 'organizations',\n",
              " 'have',\n",
              " 'wealth',\n",
              " 'of',\n",
              " 'data',\n",
              " 'available',\n",
              " 'with',\n",
              " 'them',\n",
              " 'but',\n",
              " 'unfortunately,',\n",
              " 'they',\n",
              " 'don’t',\n",
              " 'know',\n",
              " 'how',\n",
              " 'to',\n",
              " 'derive',\n",
              " 'value',\n",
              " 'out',\n",
              " 'of',\n",
              " 'it',\n",
              " 'since',\n",
              " 'this',\n",
              " 'data',\n",
              " 'is',\n",
              " 'in',\n",
              " 'its',\n",
              " 'raw',\n",
              " 'form',\n",
              " 'or',\n",
              " 'unstructured',\n",
              " 'format.']"
            ]
          },
          "metadata": {},
          "execution_count": 17
        }
      ]
    },
    {
      "cell_type": "code",
      "source": [],
      "metadata": {
        "id": "5WvO-D7JFfwT"
      },
      "execution_count": null,
      "outputs": []
    },
    {
      "cell_type": "code",
      "source": [
        "#Filtering undesired words from the splitted result\n",
        "stopwords = [\"a\", \"an\", \"the\"]\n",
        "filtered_text_rdd = flat_splitted_text_rdd.filter(lambda x: x.lower() not in stopwords)\n",
        "filtered_text_rdd.collect()"
      ],
      "metadata": {
        "colab": {
          "base_uri": "https://localhost:8080/"
        },
        "id": "LSTT-bP8HF1Z",
        "outputId": "d1f06703-cfdb-4148-bb1c-3929e7d36047"
      },
      "execution_count": null,
      "outputs": [
        {
          "output_type": "execute_result",
          "data": {
            "text/plain": [
              "['big-data',\n",
              " 'journey',\n",
              " 'must',\n",
              " 'strike',\n",
              " 'balance',\n",
              " 'between',\n",
              " 'data',\n",
              " 'supply',\n",
              " '(data',\n",
              " 'management)',\n",
              " 'and',\n",
              " 'information',\n",
              " 'demand',\n",
              " '(managers',\n",
              " 'asking',\n",
              " 'for',\n",
              " 'different',\n",
              " 'information',\n",
              " 'or',\n",
              " 'more-timely',\n",
              " 'updates).',\n",
              " 'aim',\n",
              " 'of',\n",
              " 'any',\n",
              " 'big',\n",
              " 'data',\n",
              " 'project',\n",
              " 'must',\n",
              " 'be',\n",
              " 'to',\n",
              " 'add',\n",
              " 'business',\n",
              " 'value',\n",
              " '—',\n",
              " 'by',\n",
              " 'enabling',\n",
              " 'cost',\n",
              " 'reductions,',\n",
              " 'productivity',\n",
              " 'gains,',\n",
              " 'or',\n",
              " 'revenue',\n",
              " 'increases.',\n",
              " 'Many',\n",
              " 'older',\n",
              " 'big',\n",
              " 'data',\n",
              " 'projects',\n",
              " 'never',\n",
              " 'reached',\n",
              " 'point',\n",
              " 'where',\n",
              " 'they',\n",
              " 'were',\n",
              " 'adding',\n",
              " 'value.',\n",
              " 'For',\n",
              " 'example,',\n",
              " 'it',\n",
              " 'is',\n",
              " 'not',\n",
              " 'unusual',\n",
              " 'to',\n",
              " 'find',\n",
              " 'projects',\n",
              " 'based',\n",
              " 'on',\n",
              " 'plant',\n",
              " 'historians',\n",
              " 'that',\n",
              " 'accumulate',\n",
              " 'data',\n",
              " 'for',\n",
              " 'years',\n",
              " 'without',\n",
              " 'business',\n",
              " 'or',\n",
              " 'operational',\n",
              " 'managers',\n",
              " 'taking',\n",
              " 'full',\n",
              " 'advantage',\n",
              " 'of',\n",
              " 'data',\n",
              " 'through',\n",
              " 'analytics.',\n",
              " 'Any',\n",
              " 'data',\n",
              " 'with',\n",
              " 'unknown',\n",
              " 'form',\n",
              " 'or',\n",
              " 'structure',\n",
              " 'is',\n",
              " 'classified',\n",
              " 'as',\n",
              " 'unstructured',\n",
              " 'data.',\n",
              " 'In',\n",
              " 'addition',\n",
              " 'to',\n",
              " 'size',\n",
              " 'being',\n",
              " 'huge,',\n",
              " 'un-structured',\n",
              " 'data',\n",
              " 'poses',\n",
              " 'multiple',\n",
              " 'challenges',\n",
              " 'in',\n",
              " 'terms',\n",
              " 'of',\n",
              " 'its',\n",
              " 'processing',\n",
              " 'for',\n",
              " 'deriving',\n",
              " 'value',\n",
              " 'out',\n",
              " 'of',\n",
              " 'it.',\n",
              " 'typical',\n",
              " 'example',\n",
              " 'of',\n",
              " 'unstructured',\n",
              " 'data',\n",
              " 'is',\n",
              " 'heterogeneous',\n",
              " 'data',\n",
              " 'source',\n",
              " 'containing',\n",
              " 'combination',\n",
              " 'of',\n",
              " 'simple',\n",
              " 'text',\n",
              " 'files,',\n",
              " 'images,',\n",
              " 'videos',\n",
              " 'etc.',\n",
              " 'Now',\n",
              " 'day',\n",
              " 'organizations',\n",
              " 'have',\n",
              " 'wealth',\n",
              " 'of',\n",
              " 'data',\n",
              " 'available',\n",
              " 'with',\n",
              " 'them',\n",
              " 'but',\n",
              " 'unfortunately,',\n",
              " 'they',\n",
              " 'don’t',\n",
              " 'know',\n",
              " 'how',\n",
              " 'to',\n",
              " 'derive',\n",
              " 'value',\n",
              " 'out',\n",
              " 'of',\n",
              " 'it',\n",
              " 'since',\n",
              " 'this',\n",
              " 'data',\n",
              " 'is',\n",
              " 'in',\n",
              " 'its',\n",
              " 'raw',\n",
              " 'form',\n",
              " 'or',\n",
              " 'unstructured',\n",
              " 'format.']"
            ]
          },
          "metadata": {},
          "execution_count": 18
        }
      ]
    },
    {
      "cell_type": "code",
      "source": [
        "#Another Filtering example\n",
        "another_filtered_text_rdd = flat_splitted_text_rdd.filter(lambda x: x.endswith(\"a\"))\n",
        "another_filtered_text_rdd.collect()"
      ],
      "metadata": {
        "colab": {
          "base_uri": "https://localhost:8080/"
        },
        "id": "99lZ_QxtH0BQ",
        "outputId": "e787a040-b4a3-41de-9015-d04a68051964"
      },
      "execution_count": null,
      "outputs": [
        {
          "output_type": "execute_result",
          "data": {
            "text/plain": [
              "['big-data',\n",
              " 'a',\n",
              " 'data',\n",
              " '(data',\n",
              " 'data',\n",
              " 'data',\n",
              " 'data',\n",
              " 'data',\n",
              " 'data',\n",
              " 'data',\n",
              " 'data',\n",
              " 'a',\n",
              " 'data',\n",
              " 'a',\n",
              " 'data',\n",
              " 'data']"
            ]
          },
          "metadata": {},
          "execution_count": 19
        }
      ]
    },
    {
      "cell_type": "markdown",
      "source": [
        "## **Working With CSV Dataset**"
      ],
      "metadata": {
        "id": "XdUPML2Pgtir"
      }
    },
    {
      "cell_type": "code",
      "source": [
        "#Loading CSV File\n",
        "csvRDD = spark.sparkContext.textFile(\"/content/FIFA-21 Complete.csv\", 6)\n",
        "csvRDD.take(5)\n",
        "# print(csvRDD.getNumPartitions())\n",
        "# print(csvRDD.glom().collect())\n"
      ],
      "metadata": {
        "colab": {
          "base_uri": "https://localhost:8080/"
        },
        "id": "b_KOL6B1feOm",
        "outputId": "a10190c7-f2fc-4c9f-c284-0d412da61752"
      },
      "execution_count": null,
      "outputs": [
        {
          "output_type": "execute_result",
          "data": {
            "text/plain": [
              "['player_id;name;nationality;position;overall;age;hits;potential;team',\n",
              " '158023;Lionel Messi;Argentina;ST|CF|RW;94;33;299;94;\"FC Barcelona \"',\n",
              " '20801;Cristiano Ronaldo;Portugal;ST|LW;93;35;276;93;\"Juventus \"',\n",
              " '190871;Neymar Jr;Brazil;CAM|LW;92;28;186;92;\"Paris Saint-Germain \"',\n",
              " '203376;Virgil van Dijk;Netherlands;CB;91;29;127;92;\"Liverpool \"']"
            ]
          },
          "metadata": {},
          "execution_count": 20
        }
      ]
    },
    {
      "cell_type": "code",
      "source": [
        "#Splitting each row\n",
        "comma_separated_csvRDD = csvRDD.map(lambda line:line.split(\",\"))\n",
        "comma_separated_csvRDD.take(5)"
      ],
      "metadata": {
        "colab": {
          "base_uri": "https://localhost:8080/"
        },
        "id": "Hh92lvAqhOQ8",
        "outputId": "4fba3036-bca7-4fe2-8365-612fff0a583a"
      },
      "execution_count": null,
      "outputs": [
        {
          "output_type": "execute_result",
          "data": {
            "text/plain": [
              "[['player_id;name;nationality;position;overall;age;hits;potential;team'],\n",
              " ['158023;Lionel Messi;Argentina;ST|CF|RW;94;33;299;94;\"FC Barcelona \"'],\n",
              " ['20801;Cristiano Ronaldo;Portugal;ST|LW;93;35;276;93;\"Juventus \"'],\n",
              " ['190871;Neymar Jr;Brazil;CAM|LW;92;28;186;92;\"Paris Saint-Germain \"'],\n",
              " ['203376;Virgil van Dijk;Netherlands;CB;91;29;127;92;\"Liverpool \"']]"
            ]
          },
          "metadata": {},
          "execution_count": 21
        }
      ]
    },
    {
      "cell_type": "code",
      "source": [
        "#Splitting each row\n",
        "semicolon_separated_csvRDD = csvRDD.map(lambda line:line.split(\";\"))\n",
        "semicolon_separated_csvRDD.take(3)"
      ],
      "metadata": {
        "colab": {
          "base_uri": "https://localhost:8080/"
        },
        "id": "2okj4FUBgspt",
        "outputId": "db3aca51-1871-4131-c4f7-28ca8b0b3e4f"
      },
      "execution_count": null,
      "outputs": [
        {
          "output_type": "execute_result",
          "data": {
            "text/plain": [
              "[['player_id',\n",
              "  'name',\n",
              "  'nationality',\n",
              "  'position',\n",
              "  'overall',\n",
              "  'age',\n",
              "  'hits',\n",
              "  'potential',\n",
              "  'team'],\n",
              " ['158023',\n",
              "  'Lionel Messi',\n",
              "  'Argentina',\n",
              "  'ST|CF|RW',\n",
              "  '94',\n",
              "  '33',\n",
              "  '299',\n",
              "  '94',\n",
              "  '\"FC Barcelona \"'],\n",
              " ['20801',\n",
              "  'Cristiano Ronaldo',\n",
              "  'Portugal',\n",
              "  'ST|LW',\n",
              "  '93',\n",
              "  '35',\n",
              "  '276',\n",
              "  '93',\n",
              "  '\"Juventus \"']]"
            ]
          },
          "metadata": {},
          "execution_count": 22
        }
      ]
    },
    {
      "cell_type": "code",
      "source": [
        "#Filtering rows with a condition\n",
        "print(semicolon_separated_csvRDD.take(1))\n",
        "filtered_rdd = semicolon_separated_csvRDD.filter(lambda fields: fields[3] == \"GK\")\n",
        "filtered_rdd.take(3)"
      ],
      "metadata": {
        "colab": {
          "base_uri": "https://localhost:8080/"
        },
        "id": "7-kXh_aXkHLZ",
        "outputId": "bba3cfbc-6137-4858-c8da-b0828ce08f3f"
      },
      "execution_count": null,
      "outputs": [
        {
          "output_type": "stream",
          "name": "stdout",
          "text": [
            "[['player_id', 'name', 'nationality', 'position', 'overall', 'age', 'hits', 'potential', 'team']]\n"
          ]
        },
        {
          "output_type": "execute_result",
          "data": {
            "text/plain": [
              "[['200389',\n",
              "  'Jan Oblak',\n",
              "  'Slovenia',\n",
              "  'GK',\n",
              "  '91',\n",
              "  '27',\n",
              "  '47',\n",
              "  '93',\n",
              "  '\"Atlético Madrid \"'],\n",
              " ['212831', 'Alisson', 'Brazil', 'GK', '90', '27', '53', '91', '\"Liverpool \"'],\n",
              " ['192448',\n",
              "  'Marc-André ter Stegen',\n",
              "  'Germany',\n",
              "  'GK',\n",
              "  '90',\n",
              "  '28',\n",
              "  '68',\n",
              "  '93',\n",
              "  '\"FC Barcelona \"']]"
            ]
          },
          "metadata": {},
          "execution_count": 23
        }
      ]
    },
    {
      "cell_type": "code",
      "source": [
        "# Create an RDD with missing data (None)\n",
        "data_with_none = [1, 2, None, 4, 5]\n",
        "rdd_with_none = spark.sparkContext.parallelize(data_with_none)\n",
        "# Filter out None values\n",
        "filtered_rdd = rdd_with_none.filter(lambda x: x is not None)\n",
        "filtered_rdd.collect()"
      ],
      "metadata": {
        "colab": {
          "base_uri": "https://localhost:8080/"
        },
        "id": "MF7gqT8DrbGO",
        "outputId": "e7800335-2655-4d07-83cb-49bc4002a2e7"
      },
      "execution_count": null,
      "outputs": [
        {
          "output_type": "execute_result",
          "data": {
            "text/plain": [
              "[1, 2, 4, 5]"
            ]
          },
          "metadata": {},
          "execution_count": 24
        }
      ]
    },
    {
      "cell_type": "code",
      "source": [
        "# reduce\n",
        "#Count total hits\n",
        "only_hits = csvRDD.map(lambda line: (line.split(\";\")[6]))\n",
        "only_hits = only_hits.filter(lambda s : s.isdigit())\n",
        "print(only_hits.take(2))\n",
        "total_hits = only_hits.reduce(lambda x, y: int(x)+ int(y))\n",
        "print(total_hits)"
      ],
      "metadata": {
        "colab": {
          "base_uri": "https://localhost:8080/"
        },
        "id": "IwA6Xpyikz_X",
        "outputId": "2bbade37-016e-40fd-ce06-b43d91830ab6"
      },
      "execution_count": null,
      "outputs": [
        {
          "output_type": "stream",
          "name": "stdout",
          "text": [
            "['299', '276']\n",
            "48359\n"
          ]
        }
      ]
    },
    {
      "cell_type": "code",
      "source": [
        "# reduceByKey\n",
        "data = [(\"product1\", 100), (\"product2\", 200), (\"product1\", 50), (\"product2\", 300), (\"product3\", 150)]\n",
        "rdd = spark.sparkContext.parallelize(data)\n",
        "total_sales_per_product = rdd.reduceByKey(lambda x, y: x + y)\n",
        "result = total_sales_per_product.collect()\n",
        "for product, total_sales in result:\n",
        "    print(f\"Product: {product}, Total Sales: {total_sales}\")\n"
      ],
      "metadata": {
        "colab": {
          "base_uri": "https://localhost:8080/"
        },
        "id": "LKwDLuddq4e_",
        "outputId": "f7d69e96-1b4f-4d4f-87a1-ae66c940487e"
      },
      "execution_count": null,
      "outputs": [
        {
          "output_type": "stream",
          "name": "stdout",
          "text": [
            "Product: product3, Total Sales: 150\n",
            "Product: product1, Total Sales: 150\n",
            "Product: product2, Total Sales: 500\n"
          ]
        }
      ]
    },
    {
      "cell_type": "code",
      "source": [
        "# groupBy\n",
        "data = [(\"apple\", 3), (\"banana\", 2), (\"apple\", 5), (\"banana\", 4), (\"orange\", 1)]\n",
        "rdd = spark.sparkContext.parallelize(data)\n",
        "grouped_rdd = rdd.groupBy(lambda x: x[0])\n",
        "result = grouped_rdd.collect()\n",
        "for key, values in result:\n",
        "    print(f\"Key: {key}, Values: {list(values)}\")"
      ],
      "metadata": {
        "colab": {
          "base_uri": "https://localhost:8080/"
        },
        "id": "zhzelSW5q6Ye",
        "outputId": "653d0b25-d7de-46e2-c51d-bc19dc8d84f0"
      },
      "execution_count": null,
      "outputs": [
        {
          "output_type": "stream",
          "name": "stdout",
          "text": [
            "Key: banana, Values: [('banana', 2), ('banana', 4)]\n",
            "Key: orange, Values: [('orange', 1)]\n",
            "Key: apple, Values: [('apple', 3), ('apple', 5)]\n"
          ]
        }
      ]
    },
    {
      "cell_type": "code",
      "source": [
        "#groupByKey\n",
        "data = [(\"apple\", 3), (\"banana\", 2), (\"apple\", 5), (\"banana\", 4), (\"orange\", 1)]\n",
        "rdd = spark.sparkContext.parallelize(data)\n",
        "grouped_rdd = rdd.groupByKey()\n",
        "result = grouped_rdd.collect()\n",
        "for key, values in result:\n",
        "    print(f\"Key: {key}, Values: {list(values)}\")\n"
      ],
      "metadata": {
        "colab": {
          "base_uri": "https://localhost:8080/"
        },
        "id": "7sfs4nv9s6dl",
        "outputId": "884fdd97-59c1-428e-ccc3-7726d3ab13ca"
      },
      "execution_count": null,
      "outputs": [
        {
          "output_type": "stream",
          "name": "stdout",
          "text": [
            "Key: banana, Values: [2, 4]\n",
            "Key: orange, Values: [1]\n",
            "Key: apple, Values: [3, 5]\n"
          ]
        }
      ]
    },
    {
      "cell_type": "code",
      "source": [
        "#Saving Output in a file\n",
        "total_sales_per_product.saveAsTextFile(\"/content/grouped2_data.txt\")"
      ],
      "metadata": {
        "id": "XYZmBmNHRjG_"
      },
      "execution_count": null,
      "outputs": []
    },
    {
      "cell_type": "markdown",
      "source": [
        "# **Word Count Example With MapReduce**"
      ],
      "metadata": {
        "id": "0zJt3VoAZZ4a"
      }
    },
    {
      "cell_type": "code",
      "source": [
        "#Loading Data\n",
        "path = \"/content/lorem.txt\"\n",
        "text_rdd = spark.sparkContext.textFile(path, 5)\n",
        "text_rdd.collect()"
      ],
      "metadata": {
        "id": "_5uDAhf6ZhxZ"
      },
      "execution_count": null,
      "outputs": []
    },
    {
      "cell_type": "code",
      "source": [
        "#Splitting Data based on space\n",
        "splitted_text_rdd = text_rdd.flatMap(lambda line: line.split())\n",
        "splitted_text_rdd.collect()"
      ],
      "metadata": {
        "id": "lDwxtjlTaDkg"
      },
      "execution_count": null,
      "outputs": []
    },
    {
      "cell_type": "code",
      "source": [
        "#Mapping each key with a value\n",
        "mapped_words = splitted_text_rdd.map(lambda x:(x,1))\n",
        "mapped_words.take(5)"
      ],
      "metadata": {
        "colab": {
          "base_uri": "https://localhost:8080/"
        },
        "id": "FgMqNdd4aLCB",
        "outputId": "ab56e853-288d-43e5-ec26-f60792eb0d78"
      },
      "execution_count": null,
      "outputs": [
        {
          "output_type": "execute_result",
          "data": {
            "text/plain": [
              "[('A', 1), ('big-data', 1), ('journey', 1), ('must', 1), ('strike', 1)]"
            ]
          },
          "metadata": {},
          "execution_count": 39
        }
      ]
    },
    {
      "cell_type": "code",
      "source": [
        "#Redeucing to count the words\n",
        "reduced_mapped_words = mapped_words.reduceByKey(lambda x, y: x+y)\n",
        "reduced_mapped_words.take(5)"
      ],
      "metadata": {
        "colab": {
          "base_uri": "https://localhost:8080/"
        },
        "id": "6HP11eMlbUO4",
        "outputId": "75831500-3276-49b0-bf0e-b155c2b68831"
      },
      "execution_count": null,
      "outputs": [
        {
          "output_type": "execute_result",
          "data": {
            "text/plain": [
              "[('demand', 1), ('(managers', 1), ('The', 1), ('of', 8), ('to', 4)]"
            ]
          },
          "metadata": {},
          "execution_count": 41
        }
      ]
    },
    {
      "cell_type": "code",
      "source": [
        "reduced_mapped_words.saveAsTextFile(\"/content/count_data.txt\")"
      ],
      "metadata": {
        "id": "90pM5I_Rb5fn"
      },
      "execution_count": null,
      "outputs": []
    }
  ],
  "metadata": {
    "colab": {
      "provenance": []
    },
    "kernelspec": {
      "display_name": "Python 3",
      "name": "python3"
    },
    "language_info": {
      "name": "python"
    }
  },
  "nbformat": 4,
  "nbformat_minor": 0
}