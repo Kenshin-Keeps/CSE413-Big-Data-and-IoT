{
  "nbformat": 4,
  "nbformat_minor": 0,
  "metadata": {
    "colab": {
      "provenance": []
    },
    "kernelspec": {
      "name": "python3",
      "display_name": "Python 3"
    },
    "language_info": {
      "name": "python"
    }
  },
  "cells": [
    {
      "cell_type": "markdown",
      "source": [
        "# **Introduction to Python Programming**"
      ],
      "metadata": {
        "id": "h6s3motLO6XN"
      }
    },
    {
      "cell_type": "code",
      "execution_count": null,
      "metadata": {
        "colab": {
          "base_uri": "https://localhost:8080/"
        },
        "id": "HFRsfVw_XTLX",
        "outputId": "c8a93ec0-1f41-4ed3-f74f-c10879f6d9a9"
      },
      "outputs": [
        {
          "output_type": "stream",
          "name": "stdout",
          "text": [
            "Python 3.10.12\n"
          ]
        }
      ],
      "source": [
        "!python --version"
      ]
    },
    {
      "cell_type": "code",
      "source": [
        "batch = 55\n",
        "print(f\"Big Data {batch}\")"
      ],
      "metadata": {
        "colab": {
          "base_uri": "https://localhost:8080/"
        },
        "id": "55zixuQehLku",
        "outputId": "44530301-01a2-4838-b3ac-8a37d2cca4ae"
      },
      "execution_count": null,
      "outputs": [
        {
          "output_type": "stream",
          "name": "stdout",
          "text": [
            "Big Data 55\n"
          ]
        }
      ]
    },
    {
      "cell_type": "code",
      "source": [
        "batch = 57\n",
        "if batch == 55:\n",
        "  print(\"OK\")\n",
        "elif batch == 57:\n",
        "  print(\"OK 2\")\n",
        "else:\n",
        "  print(\"Others\")"
      ],
      "metadata": {
        "colab": {
          "base_uri": "https://localhost:8080/"
        },
        "id": "ozNvKn-rkUbu",
        "outputId": "48374a9c-242d-41a2-ed5d-baa0b733ca4b"
      },
      "execution_count": null,
      "outputs": [
        {
          "output_type": "stream",
          "name": "stdout",
          "text": [
            "OK 2\n"
          ]
        }
      ]
    },
    {
      "cell_type": "code",
      "source": [
        "l = [\"Big\", \"Data\", 413, 412, 4.5]\n",
        "print(*l)\n",
        "l"
      ],
      "metadata": {
        "colab": {
          "base_uri": "https://localhost:8080/"
        },
        "id": "VdlhRRZykoFN",
        "outputId": "984d29d1-ff77-4e7b-9c1d-d58e0270df97"
      },
      "execution_count": null,
      "outputs": [
        {
          "output_type": "stream",
          "name": "stdout",
          "text": [
            "Big Data 413 412 4.5\n"
          ]
        },
        {
          "output_type": "execute_result",
          "data": {
            "text/plain": [
              "['Big', 'Data', 413, 412, 4.5]"
            ]
          },
          "metadata": {},
          "execution_count": 8
        }
      ]
    },
    {
      "cell_type": "code",
      "source": [
        "print(l[:3])"
      ],
      "metadata": {
        "colab": {
          "base_uri": "https://localhost:8080/"
        },
        "id": "Sv_mmJpNlU0e",
        "outputId": "75df708e-1d4b-4ab6-ac39-be4a98dda374"
      },
      "execution_count": null,
      "outputs": [
        {
          "output_type": "stream",
          "name": "stdout",
          "text": [
            "['Big', 'Data', 413]\n"
          ]
        }
      ]
    },
    {
      "cell_type": "code",
      "source": [
        "print(l[1:3])"
      ],
      "metadata": {
        "colab": {
          "base_uri": "https://localhost:8080/"
        },
        "id": "XDQU-v3wljU1",
        "outputId": "12f3be5c-6973-42e7-eed3-d11cf8421476"
      },
      "execution_count": null,
      "outputs": [
        {
          "output_type": "stream",
          "name": "stdout",
          "text": [
            "['Data', 413]\n"
          ]
        }
      ]
    },
    {
      "cell_type": "code",
      "source": [
        "print(l[-2])"
      ],
      "metadata": {
        "colab": {
          "base_uri": "https://localhost:8080/"
        },
        "id": "2Vy-VlISln5e",
        "outputId": "883c99ad-f153-49ec-eb54-72b896cdd085"
      },
      "execution_count": null,
      "outputs": [
        {
          "output_type": "stream",
          "name": "stdout",
          "text": [
            "412\n"
          ]
        }
      ]
    },
    {
      "cell_type": "code",
      "source": [
        "for i in range(1, len(l), 2):\n",
        "  print(l[i])"
      ],
      "metadata": {
        "colab": {
          "base_uri": "https://localhost:8080/"
        },
        "id": "PXOmeM3Tl1-u",
        "outputId": "ddafec1a-3f92-46b6-f834-7c30953d291a"
      },
      "execution_count": null,
      "outputs": [
        {
          "output_type": "stream",
          "name": "stdout",
          "text": [
            "Data\n",
            "412\n"
          ]
        }
      ]
    },
    {
      "cell_type": "code",
      "source": [
        "for i in l:\n",
        "  print(i)"
      ],
      "metadata": {
        "colab": {
          "base_uri": "https://localhost:8080/"
        },
        "id": "6_6utD_5mZGl",
        "outputId": "178dae7d-3e25-44b2-ea24-748b7fd2cd36"
      },
      "execution_count": null,
      "outputs": [
        {
          "output_type": "stream",
          "name": "stdout",
          "text": [
            "Big\n",
            "Data\n",
            "413\n",
            "412\n",
            "4.5\n"
          ]
        }
      ]
    },
    {
      "cell_type": "code",
      "source": [
        "s = {\"Big\", \"Data\", 413, 412}\n",
        "for i in s:\n",
        "  print(i)"
      ],
      "metadata": {
        "colab": {
          "base_uri": "https://localhost:8080/"
        },
        "id": "cOLRXGnlmhlG",
        "outputId": "ab2c520e-38f2-46ca-fbfa-33dc80751e93"
      },
      "execution_count": null,
      "outputs": [
        {
          "output_type": "stream",
          "name": "stdout",
          "text": [
            "Data\n",
            "412\n",
            "413\n",
            "Big\n"
          ]
        }
      ]
    },
    {
      "cell_type": "code",
      "source": [
        "t = (413, 412)\n",
        "print(t)"
      ],
      "metadata": {
        "colab": {
          "base_uri": "https://localhost:8080/"
        },
        "id": "M6eF-s0om9td",
        "outputId": "0cd55ebe-d790-43a3-c717-7d5deccd770f"
      },
      "execution_count": null,
      "outputs": [
        {
          "output_type": "stream",
          "name": "stdout",
          "text": [
            "(413, 412)\n"
          ]
        }
      ]
    },
    {
      "cell_type": "code",
      "source": [
        "d = {\n",
        "    \"section\": \"I\",\n",
        "    \"batch\": 55\n",
        "}\n",
        "print(d)"
      ],
      "metadata": {
        "colab": {
          "base_uri": "https://localhost:8080/"
        },
        "id": "Fp4PToOrnJ-W",
        "outputId": "ea1fa0cb-fd1d-47b0-c595-54c073ac307f"
      },
      "execution_count": null,
      "outputs": [
        {
          "output_type": "stream",
          "name": "stdout",
          "text": [
            "{'section': 'I', 'batch': 55}\n"
          ]
        }
      ]
    },
    {
      "cell_type": "code",
      "source": [
        "for _, v in d.items():\n",
        "  print(_,v)"
      ],
      "metadata": {
        "colab": {
          "base_uri": "https://localhost:8080/"
        },
        "id": "r_DB-gHQnW3t",
        "outputId": "b1013248-e760-458d-fe4e-877f542dfef5"
      },
      "execution_count": null,
      "outputs": [
        {
          "output_type": "stream",
          "name": "stdout",
          "text": [
            "section I\n",
            "batch 55\n"
          ]
        }
      ]
    },
    {
      "cell_type": "code",
      "source": [
        "def sum(n1, n2):\n",
        "  return n1+n2\n",
        "print(sum(2,5))"
      ],
      "metadata": {
        "colab": {
          "base_uri": "https://localhost:8080/"
        },
        "id": "H05o4A1FocLF",
        "outputId": "c148c01f-fcfa-4e9b-ac0b-58822bb2510c"
      },
      "execution_count": null,
      "outputs": [
        {
          "output_type": "stream",
          "name": "stdout",
          "text": [
            "7\n"
          ]
        }
      ]
    },
    {
      "cell_type": "code",
      "source": [
        "sum = lambda n1, n2: n1+n2\n",
        "print(sum(2,5))"
      ],
      "metadata": {
        "colab": {
          "base_uri": "https://localhost:8080/"
        },
        "id": "R2OUprmjo_Dl",
        "outputId": "492dddb0-3a39-495a-862b-8fe9960a16dd"
      },
      "execution_count": null,
      "outputs": [
        {
          "output_type": "stream",
          "name": "stdout",
          "text": [
            "7\n"
          ]
        }
      ]
    },
    {
      "cell_type": "code",
      "source": [],
      "metadata": {
        "id": "FNhk0V2qpXLW"
      },
      "execution_count": null,
      "outputs": []
    }
  ]
}