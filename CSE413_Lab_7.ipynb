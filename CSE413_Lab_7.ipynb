{
  "nbformat": 4,
  "nbformat_minor": 0,
  "metadata": {
    "colab": {
      "provenance": []
    },
    "kernelspec": {
      "name": "python3",
      "display_name": "Python 3"
    },
    "language_info": {
      "name": "python"
    }
  },
  "cells": [
    {
      "cell_type": "markdown",
      "source": [
        "# **Classification using Pyspark**"
      ],
      "metadata": {
        "id": "muvSIYe0IwJs"
      }
    },
    {
      "cell_type": "markdown",
      "source": [
        "## **Configuration**"
      ],
      "metadata": {
        "id": "TnxuridUhAK7"
      }
    },
    {
      "cell_type": "code",
      "execution_count": null,
      "metadata": {
        "id": "GEiJ4B0cElIS"
      },
      "outputs": [],
      "source": [
        "#Installation\n",
        "!apt-get install openjdk-8-jdk-headless -qq > /dev/null\n",
        "!wget -q http://archive.apache.org/dist/spark/spark-3.1.1/spark-3.1.1-bin-hadoop3.2.tgz\n",
        "!tar xf spark-3.1.1-bin-hadoop3.2.tgz\n",
        "!pip install -q findspark\n",
        "\n",
        "import os\n",
        "os.environ[\"JAVA_HOME\"] = \"/usr/lib/jvm/java-8-openjdk-amd64\"\n",
        "os.environ[\"SPARK_HOME\"] = \"/content/spark-3.1.1-bin-hadoop3.2\""
      ]
    },
    {
      "cell_type": "code",
      "source": [
        "#spark\n",
        "import findspark\n",
        "findspark.init()"
      ],
      "metadata": {
        "id": "notp4ehPEuDM"
      },
      "execution_count": null,
      "outputs": []
    },
    {
      "cell_type": "code",
      "source": [
        "#Creating Session\n",
        "from pyspark.sql import SparkSession\n",
        "spark = SparkSession.builder.appName(\"ClassificationwithSpark\").getOrCreate()"
      ],
      "metadata": {
        "id": "B-MGXtPBEvnq"
      },
      "execution_count": null,
      "outputs": []
    },
    {
      "cell_type": "markdown",
      "source": [
        "## **Data Load and Explore**"
      ],
      "metadata": {
        "id": "DD5MiBA2g5Lj"
      }
    },
    {
      "cell_type": "code",
      "source": [
        "#import necessary functions\n",
        "from itertools import chain\n",
        "from pyspark.sql.functions import count, mean, when, lit, create_map, regexp_extract"
      ],
      "metadata": {
        "id": "Rkc7nfhwHUlm"
      },
      "execution_count": null,
      "outputs": []
    },
    {
      "cell_type": "code",
      "source": [
        "#Data loading\n",
        "df1 = spark.read.csv('/content/train.csv',\n",
        "                     header=True, inferSchema=True)\n",
        "df2 = spark.read.csv('/content/test.csv',\n",
        "                     header=True, inferSchema=True)"
      ],
      "metadata": {
        "id": "basd8JsTnptu"
      },
      "execution_count": null,
      "outputs": []
    },
    {
      "cell_type": "code",
      "source": [
        "#Printing information about each column\n",
        "df1.printSchema()"
      ],
      "metadata": {
        "colab": {
          "base_uri": "https://localhost:8080/"
        },
        "id": "ZIp0HArHn4S7",
        "outputId": "f30a4d53-1431-4943-c738-d055ecfc230c"
      },
      "execution_count": null,
      "outputs": [
        {
          "output_type": "stream",
          "name": "stdout",
          "text": [
            "root\n",
            " |-- PassengerId: integer (nullable = true)\n",
            " |-- Survived: integer (nullable = true)\n",
            " |-- Pclass: integer (nullable = true)\n",
            " |-- Name: string (nullable = true)\n",
            " |-- Sex: string (nullable = true)\n",
            " |-- Age: double (nullable = true)\n",
            " |-- SibSp: integer (nullable = true)\n",
            " |-- Parch: integer (nullable = true)\n",
            " |-- Ticket: string (nullable = true)\n",
            " |-- Fare: double (nullable = true)\n",
            " |-- Cabin: string (nullable = true)\n",
            " |-- Embarked: string (nullable = true)\n",
            "\n"
          ]
        }
      ]
    },
    {
      "cell_type": "code",
      "source": [
        "#Showing the dataframe\n",
        "df1.show(4)"
      ],
      "metadata": {
        "colab": {
          "base_uri": "https://localhost:8080/"
        },
        "id": "_EVgrzbMoA6T",
        "outputId": "a26b0777-b8c4-4e36-b6e5-14f74765e6ee"
      },
      "execution_count": null,
      "outputs": [
        {
          "output_type": "stream",
          "name": "stdout",
          "text": [
            "+-----------+--------+------+--------------------+------+----+-----+-----+----------------+-------+-----+--------+\n",
            "|PassengerId|Survived|Pclass|                Name|   Sex| Age|SibSp|Parch|          Ticket|   Fare|Cabin|Embarked|\n",
            "+-----------+--------+------+--------------------+------+----+-----+-----+----------------+-------+-----+--------+\n",
            "|          1|       0|     3|Braund, Mr. Owen ...|  male|22.0|    1|    0|       A/5 21171|   7.25| null|       S|\n",
            "|          2|       1|     1|Cumings, Mrs. Joh...|female|38.0|    1|    0|        PC 17599|71.2833|  C85|       C|\n",
            "|          3|       1|     3|Heikkinen, Miss. ...|female|26.0|    0|    0|STON/O2. 3101282|  7.925| null|       S|\n",
            "|          4|       1|     1|Futrelle, Mrs. Ja...|female|35.0|    1|    0|          113803|   53.1| C123|       S|\n",
            "+-----------+--------+------+--------------------+------+----+-----+-----+----------------+-------+-----+--------+\n",
            "only showing top 4 rows\n",
            "\n"
          ]
        }
      ]
    },
    {
      "cell_type": "code",
      "source": [
        "#Converting dataset into pandas to observe the data in a more formatted way\n",
        "df1.limit(100).toPandas()"
      ],
      "metadata": {
        "colab": {
          "base_uri": "https://localhost:8080/",
          "height": 615
        },
        "id": "fPVt8i_ToWLM",
        "outputId": "ba087617-4022-46fd-fba8-62dce4734aad"
      },
      "execution_count": null,
      "outputs": [
        {
          "output_type": "execute_result",
          "data": {
            "text/plain": [
              "    PassengerId  Survived  Pclass  \\\n",
              "0             1         0       3   \n",
              "1             2         1       1   \n",
              "2             3         1       3   \n",
              "3             4         1       1   \n",
              "4             5         0       3   \n",
              "..          ...       ...     ...   \n",
              "95           96         0       3   \n",
              "96           97         0       1   \n",
              "97           98         1       1   \n",
              "98           99         1       2   \n",
              "99          100         0       2   \n",
              "\n",
              "                                                 Name     Sex   Age  SibSp  \\\n",
              "0                             Braund, Mr. Owen Harris    male  22.0      1   \n",
              "1   Cumings, Mrs. John Bradley (Florence Briggs Th...  female  38.0      1   \n",
              "2                              Heikkinen, Miss. Laina  female  26.0      0   \n",
              "3        Futrelle, Mrs. Jacques Heath (Lily May Peel)  female  35.0      1   \n",
              "4                            Allen, Mr. William Henry    male  35.0      0   \n",
              "..                                                ...     ...   ...    ...   \n",
              "95                        Shorney, Mr. Charles Joseph    male   NaN      0   \n",
              "96                          Goldschmidt, Mr. George B    male  71.0      0   \n",
              "97                    Greenfield, Mr. William Bertram    male  23.0      0   \n",
              "98               Doling, Mrs. John T (Ada Julia Bone)  female  34.0      0   \n",
              "99                                  Kantor, Mr. Sinai    male  34.0      1   \n",
              "\n",
              "    Parch            Ticket     Fare    Cabin Embarked  \n",
              "0       0         A/5 21171   7.2500     None        S  \n",
              "1       0          PC 17599  71.2833      C85        C  \n",
              "2       0  STON/O2. 3101282   7.9250     None        S  \n",
              "3       0            113803  53.1000     C123        S  \n",
              "4       0            373450   8.0500     None        S  \n",
              "..    ...               ...      ...      ...      ...  \n",
              "95      0            374910   8.0500     None        S  \n",
              "96      0          PC 17754  34.6542       A5        C  \n",
              "97      1          PC 17759  63.3583  D10 D12        C  \n",
              "98      1            231919  23.0000     None        S  \n",
              "99      0            244367  26.0000     None        S  \n",
              "\n",
              "[100 rows x 12 columns]"
            ],
            "text/html": [
              "\n",
              "  <div id=\"df-f63a04ac-e1b9-4e48-829f-4297af2a19e1\" class=\"colab-df-container\">\n",
              "    <div>\n",
              "<style scoped>\n",
              "    .dataframe tbody tr th:only-of-type {\n",
              "        vertical-align: middle;\n",
              "    }\n",
              "\n",
              "    .dataframe tbody tr th {\n",
              "        vertical-align: top;\n",
              "    }\n",
              "\n",
              "    .dataframe thead th {\n",
              "        text-align: right;\n",
              "    }\n",
              "</style>\n",
              "<table border=\"1\" class=\"dataframe\">\n",
              "  <thead>\n",
              "    <tr style=\"text-align: right;\">\n",
              "      <th></th>\n",
              "      <th>PassengerId</th>\n",
              "      <th>Survived</th>\n",
              "      <th>Pclass</th>\n",
              "      <th>Name</th>\n",
              "      <th>Sex</th>\n",
              "      <th>Age</th>\n",
              "      <th>SibSp</th>\n",
              "      <th>Parch</th>\n",
              "      <th>Ticket</th>\n",
              "      <th>Fare</th>\n",
              "      <th>Cabin</th>\n",
              "      <th>Embarked</th>\n",
              "    </tr>\n",
              "  </thead>\n",
              "  <tbody>\n",
              "    <tr>\n",
              "      <th>0</th>\n",
              "      <td>1</td>\n",
              "      <td>0</td>\n",
              "      <td>3</td>\n",
              "      <td>Braund, Mr. Owen Harris</td>\n",
              "      <td>male</td>\n",
              "      <td>22.0</td>\n",
              "      <td>1</td>\n",
              "      <td>0</td>\n",
              "      <td>A/5 21171</td>\n",
              "      <td>7.2500</td>\n",
              "      <td>None</td>\n",
              "      <td>S</td>\n",
              "    </tr>\n",
              "    <tr>\n",
              "      <th>1</th>\n",
              "      <td>2</td>\n",
              "      <td>1</td>\n",
              "      <td>1</td>\n",
              "      <td>Cumings, Mrs. John Bradley (Florence Briggs Th...</td>\n",
              "      <td>female</td>\n",
              "      <td>38.0</td>\n",
              "      <td>1</td>\n",
              "      <td>0</td>\n",
              "      <td>PC 17599</td>\n",
              "      <td>71.2833</td>\n",
              "      <td>C85</td>\n",
              "      <td>C</td>\n",
              "    </tr>\n",
              "    <tr>\n",
              "      <th>2</th>\n",
              "      <td>3</td>\n",
              "      <td>1</td>\n",
              "      <td>3</td>\n",
              "      <td>Heikkinen, Miss. Laina</td>\n",
              "      <td>female</td>\n",
              "      <td>26.0</td>\n",
              "      <td>0</td>\n",
              "      <td>0</td>\n",
              "      <td>STON/O2. 3101282</td>\n",
              "      <td>7.9250</td>\n",
              "      <td>None</td>\n",
              "      <td>S</td>\n",
              "    </tr>\n",
              "    <tr>\n",
              "      <th>3</th>\n",
              "      <td>4</td>\n",
              "      <td>1</td>\n",
              "      <td>1</td>\n",
              "      <td>Futrelle, Mrs. Jacques Heath (Lily May Peel)</td>\n",
              "      <td>female</td>\n",
              "      <td>35.0</td>\n",
              "      <td>1</td>\n",
              "      <td>0</td>\n",
              "      <td>113803</td>\n",
              "      <td>53.1000</td>\n",
              "      <td>C123</td>\n",
              "      <td>S</td>\n",
              "    </tr>\n",
              "    <tr>\n",
              "      <th>4</th>\n",
              "      <td>5</td>\n",
              "      <td>0</td>\n",
              "      <td>3</td>\n",
              "      <td>Allen, Mr. William Henry</td>\n",
              "      <td>male</td>\n",
              "      <td>35.0</td>\n",
              "      <td>0</td>\n",
              "      <td>0</td>\n",
              "      <td>373450</td>\n",
              "      <td>8.0500</td>\n",
              "      <td>None</td>\n",
              "      <td>S</td>\n",
              "    </tr>\n",
              "    <tr>\n",
              "      <th>...</th>\n",
              "      <td>...</td>\n",
              "      <td>...</td>\n",
              "      <td>...</td>\n",
              "      <td>...</td>\n",
              "      <td>...</td>\n",
              "      <td>...</td>\n",
              "      <td>...</td>\n",
              "      <td>...</td>\n",
              "      <td>...</td>\n",
              "      <td>...</td>\n",
              "      <td>...</td>\n",
              "      <td>...</td>\n",
              "    </tr>\n",
              "    <tr>\n",
              "      <th>95</th>\n",
              "      <td>96</td>\n",
              "      <td>0</td>\n",
              "      <td>3</td>\n",
              "      <td>Shorney, Mr. Charles Joseph</td>\n",
              "      <td>male</td>\n",
              "      <td>NaN</td>\n",
              "      <td>0</td>\n",
              "      <td>0</td>\n",
              "      <td>374910</td>\n",
              "      <td>8.0500</td>\n",
              "      <td>None</td>\n",
              "      <td>S</td>\n",
              "    </tr>\n",
              "    <tr>\n",
              "      <th>96</th>\n",
              "      <td>97</td>\n",
              "      <td>0</td>\n",
              "      <td>1</td>\n",
              "      <td>Goldschmidt, Mr. George B</td>\n",
              "      <td>male</td>\n",
              "      <td>71.0</td>\n",
              "      <td>0</td>\n",
              "      <td>0</td>\n",
              "      <td>PC 17754</td>\n",
              "      <td>34.6542</td>\n",
              "      <td>A5</td>\n",
              "      <td>C</td>\n",
              "    </tr>\n",
              "    <tr>\n",
              "      <th>97</th>\n",
              "      <td>98</td>\n",
              "      <td>1</td>\n",
              "      <td>1</td>\n",
              "      <td>Greenfield, Mr. William Bertram</td>\n",
              "      <td>male</td>\n",
              "      <td>23.0</td>\n",
              "      <td>0</td>\n",
              "      <td>1</td>\n",
              "      <td>PC 17759</td>\n",
              "      <td>63.3583</td>\n",
              "      <td>D10 D12</td>\n",
              "      <td>C</td>\n",
              "    </tr>\n",
              "    <tr>\n",
              "      <th>98</th>\n",
              "      <td>99</td>\n",
              "      <td>1</td>\n",
              "      <td>2</td>\n",
              "      <td>Doling, Mrs. John T (Ada Julia Bone)</td>\n",
              "      <td>female</td>\n",
              "      <td>34.0</td>\n",
              "      <td>0</td>\n",
              "      <td>1</td>\n",
              "      <td>231919</td>\n",
              "      <td>23.0000</td>\n",
              "      <td>None</td>\n",
              "      <td>S</td>\n",
              "    </tr>\n",
              "    <tr>\n",
              "      <th>99</th>\n",
              "      <td>100</td>\n",
              "      <td>0</td>\n",
              "      <td>2</td>\n",
              "      <td>Kantor, Mr. Sinai</td>\n",
              "      <td>male</td>\n",
              "      <td>34.0</td>\n",
              "      <td>1</td>\n",
              "      <td>0</td>\n",
              "      <td>244367</td>\n",
              "      <td>26.0000</td>\n",
              "      <td>None</td>\n",
              "      <td>S</td>\n",
              "    </tr>\n",
              "  </tbody>\n",
              "</table>\n",
              "<p>100 rows × 12 columns</p>\n",
              "</div>\n",
              "    <div class=\"colab-df-buttons\">\n",
              "\n",
              "  <div class=\"colab-df-container\">\n",
              "    <button class=\"colab-df-convert\" onclick=\"convertToInteractive('df-f63a04ac-e1b9-4e48-829f-4297af2a19e1')\"\n",
              "            title=\"Convert this dataframe to an interactive table.\"\n",
              "            style=\"display:none;\">\n",
              "\n",
              "  <svg xmlns=\"http://www.w3.org/2000/svg\" height=\"24px\" viewBox=\"0 -960 960 960\">\n",
              "    <path d=\"M120-120v-720h720v720H120Zm60-500h600v-160H180v160Zm220 220h160v-160H400v160Zm0 220h160v-160H400v160ZM180-400h160v-160H180v160Zm440 0h160v-160H620v160ZM180-180h160v-160H180v160Zm440 0h160v-160H620v160Z\"/>\n",
              "  </svg>\n",
              "    </button>\n",
              "\n",
              "  <style>\n",
              "    .colab-df-container {\n",
              "      display:flex;\n",
              "      gap: 12px;\n",
              "    }\n",
              "\n",
              "    .colab-df-convert {\n",
              "      background-color: #E8F0FE;\n",
              "      border: none;\n",
              "      border-radius: 50%;\n",
              "      cursor: pointer;\n",
              "      display: none;\n",
              "      fill: #1967D2;\n",
              "      height: 32px;\n",
              "      padding: 0 0 0 0;\n",
              "      width: 32px;\n",
              "    }\n",
              "\n",
              "    .colab-df-convert:hover {\n",
              "      background-color: #E2EBFA;\n",
              "      box-shadow: 0px 1px 2px rgba(60, 64, 67, 0.3), 0px 1px 3px 1px rgba(60, 64, 67, 0.15);\n",
              "      fill: #174EA6;\n",
              "    }\n",
              "\n",
              "    .colab-df-buttons div {\n",
              "      margin-bottom: 4px;\n",
              "    }\n",
              "\n",
              "    [theme=dark] .colab-df-convert {\n",
              "      background-color: #3B4455;\n",
              "      fill: #D2E3FC;\n",
              "    }\n",
              "\n",
              "    [theme=dark] .colab-df-convert:hover {\n",
              "      background-color: #434B5C;\n",
              "      box-shadow: 0px 1px 3px 1px rgba(0, 0, 0, 0.15);\n",
              "      filter: drop-shadow(0px 1px 2px rgba(0, 0, 0, 0.3));\n",
              "      fill: #FFFFFF;\n",
              "    }\n",
              "  </style>\n",
              "\n",
              "    <script>\n",
              "      const buttonEl =\n",
              "        document.querySelector('#df-f63a04ac-e1b9-4e48-829f-4297af2a19e1 button.colab-df-convert');\n",
              "      buttonEl.style.display =\n",
              "        google.colab.kernel.accessAllowed ? 'block' : 'none';\n",
              "\n",
              "      async function convertToInteractive(key) {\n",
              "        const element = document.querySelector('#df-f63a04ac-e1b9-4e48-829f-4297af2a19e1');\n",
              "        const dataTable =\n",
              "          await google.colab.kernel.invokeFunction('convertToInteractive',\n",
              "                                                    [key], {});\n",
              "        if (!dataTable) return;\n",
              "\n",
              "        const docLinkHtml = 'Like what you see? Visit the ' +\n",
              "          '<a target=\"_blank\" href=https://colab.research.google.com/notebooks/data_table.ipynb>data table notebook</a>'\n",
              "          + ' to learn more about interactive tables.';\n",
              "        element.innerHTML = '';\n",
              "        dataTable['output_type'] = 'display_data';\n",
              "        await google.colab.output.renderOutput(dataTable, element);\n",
              "        const docLink = document.createElement('div');\n",
              "        docLink.innerHTML = docLinkHtml;\n",
              "        element.appendChild(docLink);\n",
              "      }\n",
              "    </script>\n",
              "  </div>\n",
              "\n",
              "\n",
              "<div id=\"df-f735578b-cfd7-40e5-8758-9d314863fab8\">\n",
              "  <button class=\"colab-df-quickchart\" onclick=\"quickchart('df-f735578b-cfd7-40e5-8758-9d314863fab8')\"\n",
              "            title=\"Suggest charts.\"\n",
              "            style=\"display:none;\">\n",
              "\n",
              "<svg xmlns=\"http://www.w3.org/2000/svg\" height=\"24px\"viewBox=\"0 0 24 24\"\n",
              "     width=\"24px\">\n",
              "    <g>\n",
              "        <path d=\"M19 3H5c-1.1 0-2 .9-2 2v14c0 1.1.9 2 2 2h14c1.1 0 2-.9 2-2V5c0-1.1-.9-2-2-2zM9 17H7v-7h2v7zm4 0h-2V7h2v10zm4 0h-2v-4h2v4z\"/>\n",
              "    </g>\n",
              "</svg>\n",
              "  </button>\n",
              "\n",
              "<style>\n",
              "  .colab-df-quickchart {\n",
              "      --bg-color: #E8F0FE;\n",
              "      --fill-color: #1967D2;\n",
              "      --hover-bg-color: #E2EBFA;\n",
              "      --hover-fill-color: #174EA6;\n",
              "      --disabled-fill-color: #AAA;\n",
              "      --disabled-bg-color: #DDD;\n",
              "  }\n",
              "\n",
              "  [theme=dark] .colab-df-quickchart {\n",
              "      --bg-color: #3B4455;\n",
              "      --fill-color: #D2E3FC;\n",
              "      --hover-bg-color: #434B5C;\n",
              "      --hover-fill-color: #FFFFFF;\n",
              "      --disabled-bg-color: #3B4455;\n",
              "      --disabled-fill-color: #666;\n",
              "  }\n",
              "\n",
              "  .colab-df-quickchart {\n",
              "    background-color: var(--bg-color);\n",
              "    border: none;\n",
              "    border-radius: 50%;\n",
              "    cursor: pointer;\n",
              "    display: none;\n",
              "    fill: var(--fill-color);\n",
              "    height: 32px;\n",
              "    padding: 0;\n",
              "    width: 32px;\n",
              "  }\n",
              "\n",
              "  .colab-df-quickchart:hover {\n",
              "    background-color: var(--hover-bg-color);\n",
              "    box-shadow: 0 1px 2px rgba(60, 64, 67, 0.3), 0 1px 3px 1px rgba(60, 64, 67, 0.15);\n",
              "    fill: var(--button-hover-fill-color);\n",
              "  }\n",
              "\n",
              "  .colab-df-quickchart-complete:disabled,\n",
              "  .colab-df-quickchart-complete:disabled:hover {\n",
              "    background-color: var(--disabled-bg-color);\n",
              "    fill: var(--disabled-fill-color);\n",
              "    box-shadow: none;\n",
              "  }\n",
              "\n",
              "  .colab-df-spinner {\n",
              "    border: 2px solid var(--fill-color);\n",
              "    border-color: transparent;\n",
              "    border-bottom-color: var(--fill-color);\n",
              "    animation:\n",
              "      spin 1s steps(1) infinite;\n",
              "  }\n",
              "\n",
              "  @keyframes spin {\n",
              "    0% {\n",
              "      border-color: transparent;\n",
              "      border-bottom-color: var(--fill-color);\n",
              "      border-left-color: var(--fill-color);\n",
              "    }\n",
              "    20% {\n",
              "      border-color: transparent;\n",
              "      border-left-color: var(--fill-color);\n",
              "      border-top-color: var(--fill-color);\n",
              "    }\n",
              "    30% {\n",
              "      border-color: transparent;\n",
              "      border-left-color: var(--fill-color);\n",
              "      border-top-color: var(--fill-color);\n",
              "      border-right-color: var(--fill-color);\n",
              "    }\n",
              "    40% {\n",
              "      border-color: transparent;\n",
              "      border-right-color: var(--fill-color);\n",
              "      border-top-color: var(--fill-color);\n",
              "    }\n",
              "    60% {\n",
              "      border-color: transparent;\n",
              "      border-right-color: var(--fill-color);\n",
              "    }\n",
              "    80% {\n",
              "      border-color: transparent;\n",
              "      border-right-color: var(--fill-color);\n",
              "      border-bottom-color: var(--fill-color);\n",
              "    }\n",
              "    90% {\n",
              "      border-color: transparent;\n",
              "      border-bottom-color: var(--fill-color);\n",
              "    }\n",
              "  }\n",
              "</style>\n",
              "\n",
              "  <script>\n",
              "    async function quickchart(key) {\n",
              "      const quickchartButtonEl =\n",
              "        document.querySelector('#' + key + ' button');\n",
              "      quickchartButtonEl.disabled = true;  // To prevent multiple clicks.\n",
              "      quickchartButtonEl.classList.add('colab-df-spinner');\n",
              "      try {\n",
              "        const charts = await google.colab.kernel.invokeFunction(\n",
              "            'suggestCharts', [key], {});\n",
              "      } catch (error) {\n",
              "        console.error('Error during call to suggestCharts:', error);\n",
              "      }\n",
              "      quickchartButtonEl.classList.remove('colab-df-spinner');\n",
              "      quickchartButtonEl.classList.add('colab-df-quickchart-complete');\n",
              "    }\n",
              "    (() => {\n",
              "      let quickchartButtonEl =\n",
              "        document.querySelector('#df-f735578b-cfd7-40e5-8758-9d314863fab8 button');\n",
              "      quickchartButtonEl.style.display =\n",
              "        google.colab.kernel.accessAllowed ? 'block' : 'none';\n",
              "    })();\n",
              "  </script>\n",
              "</div>\n",
              "    </div>\n",
              "  </div>\n"
            ]
          },
          "metadata": {},
          "execution_count": 8
        }
      ]
    },
    {
      "cell_type": "code",
      "source": [
        "#Select some specific columns\n",
        "df1.select('Survived', 'Pclass', 'Age', 'Fare').how(4)s"
      ],
      "metadata": {
        "id": "X-7F4WpDwdSP",
        "colab": {
          "base_uri": "https://localhost:8080/"
        },
        "outputId": "71acbfc8-2e9d-4d0b-b757-fc40002ca660"
      },
      "execution_count": null,
      "outputs": [
        {
          "output_type": "stream",
          "name": "stdout",
          "text": [
            "+--------+------+----+-------+\n",
            "|Survived|Pclass| Age|   Fare|\n",
            "+--------+------+----+-------+\n",
            "|       0|     3|22.0|   7.25|\n",
            "|       1|     1|38.0|71.2833|\n",
            "|       1|     3|26.0|  7.925|\n",
            "|       1|     1|35.0|   53.1|\n",
            "+--------+------+----+-------+\n",
            "only showing top 4 rows\n",
            "\n"
          ]
        }
      ]
    },
    {
      "cell_type": "code",
      "source": [
        "#Summarizing key information of the selected columns (describe() method can also be used)\n",
        "df1.select('Survived', 'Pclass', 'Age', 'Fare').summary().show()"
      ],
      "metadata": {
        "colab": {
          "base_uri": "https://localhost:8080/"
        },
        "id": "EYgllhivbeFw",
        "outputId": "c1658ca9-b284-4b7a-ad2b-40f10e19dd6d"
      },
      "execution_count": null,
      "outputs": [
        {
          "output_type": "stream",
          "name": "stdout",
          "text": [
            "+-------+-------------------+------------------+------------------+-----------------+\n",
            "|summary|           Survived|            Pclass|               Age|             Fare|\n",
            "+-------+-------------------+------------------+------------------+-----------------+\n",
            "|  count|                891|               891|               714|              891|\n",
            "|   mean| 0.3838383838383838| 2.308641975308642| 29.69911764705882| 32.2042079685746|\n",
            "| stddev|0.48659245426485753|0.8360712409770491|14.526497332334035|49.69342859718089|\n",
            "|    min|                  0|                 1|              0.42|              0.0|\n",
            "|    25%|                  0|                 2|              20.0|           7.8958|\n",
            "|    50%|                  0|                 3|              28.0|          14.4542|\n",
            "|    75%|                  1|                 3|              38.0|             31.0|\n",
            "|    max|                  1|                 3|              80.0|         512.3292|\n",
            "+-------+-------------------+------------------+------------------+-----------------+\n",
            "\n"
          ]
        }
      ]
    },
    {
      "cell_type": "code",
      "source": [
        "#To know the shape of the dataframe\n",
        "print('Number of rows: \\t', df1.count())\n",
        "print('Number of columns: \\t', len(df1.columns))"
      ],
      "metadata": {
        "colab": {
          "base_uri": "https://localhost:8080/"
        },
        "id": "ZCqDXteaby_P",
        "outputId": "33678c99-3e2e-42b0-8989-485535248e29"
      },
      "execution_count": null,
      "outputs": [
        {
          "output_type": "stream",
          "name": "stdout",
          "text": [
            "Number of rows: \t 891\n",
            "Number of columns: \t 12\n"
          ]
        }
      ]
    },
    {
      "cell_type": "markdown",
      "source": [
        "## **Exploratory Data Analysis**"
      ],
      "metadata": {
        "id": "IX202TYtdUs6"
      }
    },
    {
      "cell_type": "code",
      "source": [
        "#Grouping a column based on the type of data present there\n",
        "df1.groupBy('Survived').count().show()"
      ],
      "metadata": {
        "colab": {
          "base_uri": "https://localhost:8080/"
        },
        "id": "HjCOjLcjdFvd",
        "outputId": "94ef8a4f-44f9-44ac-c285-4146cc80eb06"
      },
      "execution_count": null,
      "outputs": [
        {
          "output_type": "stream",
          "name": "stdout",
          "text": [
            "+--------+-----+\n",
            "|Survived|count|\n",
            "+--------+-----+\n",
            "|       1|  342|\n",
            "|       0|  549|\n",
            "+--------+-----+\n",
            "\n"
          ]
        }
      ]
    },
    {
      "cell_type": "code",
      "source": [
        "#Grouping a column and finding information about each group (continuous variables)\n",
        "df1.groupBy('Survived').mean('Fare', 'Age').show()"
      ],
      "metadata": {
        "colab": {
          "base_uri": "https://localhost:8080/"
        },
        "id": "ujbUZ_53dkzS",
        "outputId": "7a701bad-d113-46a6-ea03-625c04e1a050"
      },
      "execution_count": null,
      "outputs": [
        {
          "output_type": "stream",
          "name": "stdout",
          "text": [
            "+--------+------------------+------------------+\n",
            "|Survived|         avg(Fare)|          avg(Age)|\n",
            "+--------+------------------+------------------+\n",
            "|       1| 48.39540760233917|28.343689655172415|\n",
            "|       0|22.117886885245877| 30.62617924528302|\n",
            "+--------+------------------+------------------+\n",
            "\n"
          ]
        }
      ]
    },
    {
      "cell_type": "code",
      "source": [
        "#Grouping a column based on categories of data present there (categorial variable)\n",
        "df1.groupBy('Survived').pivot('Sex').count().show()"
      ],
      "metadata": {
        "colab": {
          "base_uri": "https://localhost:8080/"
        },
        "id": "leuoo2vYeCSK",
        "outputId": "c2128f81-7a9b-465f-dbf0-29b5cd471096"
      },
      "execution_count": null,
      "outputs": [
        {
          "output_type": "stream",
          "name": "stdout",
          "text": [
            "+--------+------+----+\n",
            "|Survived|female|male|\n",
            "+--------+------+----+\n",
            "|       1|   233| 109|\n",
            "|       0|    81| 468|\n",
            "+--------+------+----+\n",
            "\n"
          ]
        }
      ]
    },
    {
      "cell_type": "code",
      "source": [
        "#Class effect on survival\n",
        "df1.groupBy('Survived').pivot('Pclass').count().show()"
      ],
      "metadata": {
        "colab": {
          "base_uri": "https://localhost:8080/"
        },
        "id": "KcBfjYOThfU2",
        "outputId": "8e62db6b-5dd7-4898-81d8-cd5f8de20152"
      },
      "execution_count": null,
      "outputs": [
        {
          "output_type": "stream",
          "name": "stdout",
          "text": [
            "+--------+---+---+---+\n",
            "|Survived|  1|  2|  3|\n",
            "+--------+---+---+---+\n",
            "|       1|136| 87|119|\n",
            "|       0| 80| 97|372|\n",
            "+--------+---+---+---+\n",
            "\n"
          ]
        }
      ]
    },
    {
      "cell_type": "code",
      "source": [
        "#Sibling number effect on survival\n",
        "df1.groupBy('Survived').pivot('SibSp').count().show()"
      ],
      "metadata": {
        "colab": {
          "base_uri": "https://localhost:8080/"
        },
        "id": "REpzoh6IhspS",
        "outputId": "30d6a964-1ac5-4922-b3a7-d54a8e3b5429"
      },
      "execution_count": null,
      "outputs": [
        {
          "output_type": "stream",
          "name": "stdout",
          "text": [
            "+--------+---+---+---+---+---+----+----+\n",
            "|Survived|  0|  1|  2|  3|  4|   5|   8|\n",
            "+--------+---+---+---+---+---+----+----+\n",
            "|       1|210|112| 13|  4|  3|null|null|\n",
            "|       0|398| 97| 15| 12| 15|   5|   7|\n",
            "+--------+---+---+---+---+---+----+----+\n",
            "\n"
          ]
        }
      ]
    },
    {
      "cell_type": "code",
      "source": [
        "#Printing number of column values that has null (Train set)\n",
        "for col in df1.columns:\n",
        "    print(col.ljust(15), df1.filter(df1[col].isNull()).count())"
      ],
      "metadata": {
        "colab": {
          "base_uri": "https://localhost:8080/"
        },
        "id": "6q_eJR6cihT3",
        "outputId": "f4daa56e-4901-4ee3-f8c8-c097e49ecf9e"
      },
      "execution_count": null,
      "outputs": [
        {
          "output_type": "stream",
          "name": "stdout",
          "text": [
            "PassengerId     0\n",
            "Survived        0\n",
            "Pclass          0\n",
            "Name            0\n",
            "Sex             0\n",
            "Age             177\n",
            "SibSp           0\n",
            "Parch           0\n",
            "Ticket          0\n",
            "Fare            0\n",
            "Cabin           687\n",
            "Embarked        2\n"
          ]
        }
      ]
    },
    {
      "cell_type": "code",
      "source": [
        "#Printing number of column values that has null (Test set)\n",
        "for col in df2.columns:\n",
        "    print(col.ljust(15), df2.filter(df2[col].isNull()).count())"
      ],
      "metadata": {
        "colab": {
          "base_uri": "https://localhost:8080/"
        },
        "id": "3vKpdzuuklCz",
        "outputId": "633e5f73-0b99-495a-9340-5755bc160fdf"
      },
      "execution_count": null,
      "outputs": [
        {
          "output_type": "stream",
          "name": "stdout",
          "text": [
            "PassengerId     0\n",
            "Pclass          0\n",
            "Name            0\n",
            "Sex             0\n",
            "Age             86\n",
            "SibSp           0\n",
            "Parch           0\n",
            "Ticket          0\n",
            "Fare            1\n",
            "Cabin           327\n",
            "Embarked        0\n"
          ]
        }
      ]
    },
    {
      "cell_type": "code",
      "source": [
        "#As only 2 value missing in embarked column, it can be filled with the most repeated value (one way)\n",
        "df1.select('Fare', 'Embarked').summary('max', \"50%\", \"mean\").show()"
      ],
      "metadata": {
        "colab": {
          "base_uri": "https://localhost:8080/"
        },
        "id": "eIR3uW0_jd1V",
        "outputId": "94126761-b394-4a47-b011-63537d837384"
      },
      "execution_count": null,
      "outputs": [
        {
          "output_type": "stream",
          "name": "stdout",
          "text": [
            "+-------+----------------+--------+\n",
            "|summary|            Fare|Embarked|\n",
            "+-------+----------------+--------+\n",
            "|    max|        512.3292|       S|\n",
            "|    50%|         14.4542|    null|\n",
            "|   mean|32.2042079685746|    null|\n",
            "+-------+----------------+--------+\n",
            "\n"
          ]
        }
      ]
    },
    {
      "cell_type": "code",
      "source": [
        "#The test dataset has some missing value in fare column\n",
        "df1 = df1.fillna({'Embarked': 'S', 'Fare':14.45})"
      ],
      "metadata": {
        "id": "Y2vtUzKPkZnb"
      },
      "execution_count": null,
      "outputs": []
    },
    {
      "cell_type": "code",
      "source": [
        "#Filling missing age values with the mean age of the group\n",
        "df1 = df1.withColumn('Title', regexp_extract(df1['Name'],\\\n",
        "                '([A-Za-z]+)\\.', 1))\n",
        "\n",
        "df1.groupBy('Title').agg(count('Age'), mean('Age')).sort('count(Age)').show()"
      ],
      "metadata": {
        "colab": {
          "base_uri": "https://localhost:8080/"
        },
        "id": "ijAQEzHqkAhM",
        "outputId": "b70db6bf-683d-4842-decb-74bac3ec082c"
      },
      "execution_count": null,
      "outputs": [
        {
          "output_type": "stream",
          "name": "stdout",
          "text": [
            "+--------+----------+------------------+\n",
            "|   Title|count(Age)|          avg(Age)|\n",
            "+--------+----------+------------------+\n",
            "|Countess|         1|              33.0|\n",
            "|     Don|         1|              40.0|\n",
            "|    Lady|         1|              48.0|\n",
            "|     Sir|         1|              49.0|\n",
            "|Jonkheer|         1|              38.0|\n",
            "|     Mme|         1|              24.0|\n",
            "|    Capt|         1|              70.0|\n",
            "|      Ms|         1|              28.0|\n",
            "|     Col|         2|              58.0|\n",
            "|    Mlle|         2|              24.0|\n",
            "|   Major|         2|              48.5|\n",
            "|     Rev|         6|43.166666666666664|\n",
            "|      Dr|         6|              42.0|\n",
            "|  Master|        36| 4.574166666666667|\n",
            "|     Mrs|       108|35.898148148148145|\n",
            "|    Miss|       146|21.773972602739725|\n",
            "|      Mr|       398|32.368090452261306|\n",
            "+--------+----------+------------------+\n",
            "\n"
          ]
        }
      ]
    },
    {
      "cell_type": "code",
      "source": [
        "#Filling missing values\n",
        "title_dic = {'Mr':'Mr', 'Miss':'Miss', 'Mrs':'Mrs', 'Master':'Master', \\\n",
        "             'Mlle': 'Miss', 'Major': 'Mr', 'Col': 'Mr', 'Sir': 'Mr',\\\n",
        "             'Don': 'Mr', 'Mme': 'Miss', 'Jonkheer': 'Mr', 'Lady': 'Mrs',\\\n",
        "             'Capt': 'Mr', 'Countess': 'Mrs', 'Ms': 'Miss', 'Dona': 'Mrs', \\\n",
        "             'Dr':'Mr', 'Rev':'Mr'}\n",
        "\n",
        "\n",
        "mapping = create_map([lit(x) for x in chain(*title_dic.items())])\n",
        "\n",
        "df1 = df1.withColumn('Title', mapping[df1['Title']])\n",
        "df1.groupBy('Title').mean('Age').show()"
      ],
      "metadata": {
        "colab": {
          "base_uri": "https://localhost:8080/"
        },
        "id": "j1vg814mnJw2",
        "outputId": "bdcc5905-4e9e-4c5b-f3c7-0274b5547c66"
      },
      "execution_count": null,
      "outputs": [
        {
          "output_type": "stream",
          "name": "stdout",
          "text": [
            "+------+------------------+\n",
            "| Title|          avg(Age)|\n",
            "+------+------------------+\n",
            "|  Miss|             21.86|\n",
            "|Master| 4.574166666666667|\n",
            "|    Mr| 33.02272727272727|\n",
            "|   Mrs|35.981818181818184|\n",
            "+------+------------------+\n",
            "\n"
          ]
        }
      ]
    },
    {
      "cell_type": "code",
      "source": [
        "df1.show(4)"
      ],
      "metadata": {
        "colab": {
          "base_uri": "https://localhost:8080/"
        },
        "id": "bm_dTD0sz7Mv",
        "outputId": "b84bf661-59a6-42f8-90cc-30ce85a4ac9e"
      },
      "execution_count": null,
      "outputs": [
        {
          "output_type": "stream",
          "name": "stdout",
          "text": [
            "+-----------+--------+------+--------------------+------+----+-----+-----+----------------+-------+-----+--------+-----+\n",
            "|PassengerId|Survived|Pclass|                Name|   Sex| Age|SibSp|Parch|          Ticket|   Fare|Cabin|Embarked|Title|\n",
            "+-----------+--------+------+--------------------+------+----+-----+-----+----------------+-------+-----+--------+-----+\n",
            "|          1|       0|     3|Braund, Mr. Owen ...|  male|22.0|    1|    0|       A/5 21171|   7.25| null|       S|   Mr|\n",
            "|          2|       1|     1|Cumings, Mrs. Joh...|female|38.0|    1|    0|        PC 17599|71.2833|  C85|       C|  Mrs|\n",
            "|          3|       1|     3|Heikkinen, Miss. ...|female|26.0|    0|    0|STON/O2. 3101282|  7.925| null|       S| Miss|\n",
            "|          4|       1|     1|Futrelle, Mrs. Ja...|female|35.0|    1|    0|          113803|   53.1| C123|       S|  Mrs|\n",
            "+-----------+--------+------+--------------------+------+----+-----+-----+----------------+-------+-----+--------+-----+\n",
            "only showing top 4 rows\n",
            "\n"
          ]
        }
      ]
    },
    {
      "cell_type": "code",
      "source": [
        "#A function for replacing age values in places of null\n",
        "def age_imputer(df, title, age):\n",
        "\n",
        "    return df.withColumn('Age', \\\n",
        "                         when((df['Age'].isNull()) & (df['Title']==title), age).otherwise(df['Age']))"
      ],
      "metadata": {
        "id": "9tssqZFe1N1K"
      },
      "execution_count": null,
      "outputs": []
    },
    {
      "cell_type": "code",
      "source": [
        "#Replacing values\n",
        "df1 = age_imputer(df1, 'Mr', 33.02)\n",
        "df1 = age_imputer(df1, 'Mrs', 35.98)\n",
        "df1 = age_imputer(df1, 'Miss', 21.86)\n",
        "df1 = age_imputer(df1, 'Master', 4.75)"
      ],
      "metadata": {
        "id": "Gnb2gVnl1gMT"
      },
      "execution_count": null,
      "outputs": []
    },
    {
      "cell_type": "markdown",
      "source": [
        "## **Feature Engineering**"
      ],
      "metadata": {
        "id": "-EY53vrOtGCL"
      }
    },
    {
      "cell_type": "code",
      "source": [
        "#Creating a new column and droping unnecessary columns\n",
        "df1 = df1.withColumn('FamilySize', df1['Parch'] + df1['SibSp']).\\\n",
        "            drop('Parch', 'SibSp')"
      ],
      "metadata": {
        "id": "5vPoiI6q1p0y"
      },
      "execution_count": null,
      "outputs": []
    },
    {
      "cell_type": "code",
      "source": [
        "#Dropping unwanted columns\n",
        "df1 = df1.drop('PassengerID', 'Cabin', 'Name', 'Ticket', 'Title')"
      ],
      "metadata": {
        "id": "NYcv6EhA2Dro"
      },
      "execution_count": null,
      "outputs": []
    },
    {
      "cell_type": "code",
      "source": [
        "df1.show(5)"
      ],
      "metadata": {
        "colab": {
          "base_uri": "https://localhost:8080/"
        },
        "id": "bjYqG1sP2N6q",
        "outputId": "6fe9f376-b3f9-4bb0-8e57-80b669b92eae"
      },
      "execution_count": null,
      "outputs": [
        {
          "output_type": "stream",
          "name": "stdout",
          "text": [
            "+--------+------+------+----+-------+--------+----------+\n",
            "|Survived|Pclass|   Sex| Age|   Fare|Embarked|FamilySize|\n",
            "+--------+------+------+----+-------+--------+----------+\n",
            "|       0|     3|  male|22.0|   7.25|       S|         1|\n",
            "|       1|     1|female|38.0|71.2833|       C|         1|\n",
            "|       1|     3|female|26.0|  7.925|       S|         0|\n",
            "|       1|     1|female|35.0|   53.1|       S|         1|\n",
            "|       0|     3|  male|35.0|   8.05|       S|         0|\n",
            "+--------+------+------+----+-------+--------+----------+\n",
            "only showing top 5 rows\n",
            "\n"
          ]
        }
      ]
    },
    {
      "cell_type": "code",
      "source": [
        "#Cheking for null values\n",
        "for col in df1.columns:\n",
        "    print(col.ljust(15), df1.filter(df1[col].isNull()).count())"
      ],
      "metadata": {
        "colab": {
          "base_uri": "https://localhost:8080/"
        },
        "id": "CGYl3i5I2NER",
        "outputId": "a6d2b0d1-1803-4cae-e5c4-4930c4475421"
      },
      "execution_count": null,
      "outputs": [
        {
          "output_type": "stream",
          "name": "stdout",
          "text": [
            "Survived        0\n",
            "Pclass          0\n",
            "Sex             0\n",
            "Age             0\n",
            "Fare            0\n",
            "Embarked        0\n",
            "FamilySize      0\n"
          ]
        }
      ]
    },
    {
      "cell_type": "markdown",
      "source": [
        "## **Model Build**"
      ],
      "metadata": {
        "id": "JEVUUbAA_k0L"
      }
    },
    {
      "cell_type": "code",
      "source": [
        "# importing required libraries\n",
        "from pyspark.ml.feature import StringIndexer, VectorAssembler\n",
        "from pyspark.ml.classification import LogisticRegression,\\\n",
        "                    RandomForestClassifier, GBTClassifier\n",
        "from pyspark.ml.evaluation import MulticlassClassificationEvaluator\n",
        "from pyspark.ml import Pipeline\n",
        "from pyspark.ml.tuning import CrossValidator, ParamGridBuilder"
      ],
      "metadata": {
        "id": "otq0NR0j2V-x"
      },
      "execution_count": null,
      "outputs": []
    },
    {
      "cell_type": "code",
      "source": [
        "#Converting categorical values to integer values (encoding)\n",
        "stringIndex = StringIndexer(inputCols=['Sex', 'Embarked'],\n",
        "                       outputCols=['SexNum', 'EmbNum'])\n",
        "\n",
        "stringIndex_model = stringIndex.fit(df1)\n",
        "\n",
        "df1_ = stringIndex_model.transform(df1).drop('Sex', 'Embarked')\n",
        "df1_.show(4)"
      ],
      "metadata": {
        "colab": {
          "base_uri": "https://localhost:8080/"
        },
        "id": "6mMsUhh44aRb",
        "outputId": "d0ff77c3-4557-484b-ebb6-45b206f9da4f"
      },
      "execution_count": null,
      "outputs": [
        {
          "output_type": "stream",
          "name": "stdout",
          "text": [
            "+--------+------+----+-------+----------+------+------+\n",
            "|Survived|Pclass| Age|   Fare|FamilySize|SexNum|EmbNum|\n",
            "+--------+------+----+-------+----------+------+------+\n",
            "|       0|     3|22.0|   7.25|         1|   0.0|   0.0|\n",
            "|       1|     1|38.0|71.2833|         1|   1.0|   1.0|\n",
            "|       1|     3|26.0|  7.925|         0|   1.0|   0.0|\n",
            "|       1|     1|35.0|   53.1|         1|   1.0|   0.0|\n",
            "+--------+------+----+-------+----------+------+------+\n",
            "only showing top 4 rows\n",
            "\n"
          ]
        }
      ]
    },
    {
      "cell_type": "code",
      "source": [
        "#converitng dataset for model\n",
        "vec_asmbl = VectorAssembler(inputCols=df1_.columns[1:],\n",
        "                           outputCol='features')\n",
        "\n",
        "df1_ = vec_asmbl.transform(df1_).select('features', 'Survived')\n",
        "df1_.show(4, truncate=False)"
      ],
      "metadata": {
        "colab": {
          "base_uri": "https://localhost:8080/"
        },
        "id": "PexOR6R040MK",
        "outputId": "db736134-1fb3-497e-908e-08df7ad18b2a"
      },
      "execution_count": null,
      "outputs": [
        {
          "output_type": "stream",
          "name": "stdout",
          "text": [
            "+------------------------------+--------+\n",
            "|features                      |Survived|\n",
            "+------------------------------+--------+\n",
            "|[3.0,22.0,7.25,1.0,0.0,0.0]   |0       |\n",
            "|[1.0,38.0,71.2833,1.0,1.0,1.0]|1       |\n",
            "|[3.0,26.0,7.925,0.0,1.0,0.0]  |1       |\n",
            "|[1.0,35.0,53.1,1.0,1.0,0.0]   |1       |\n",
            "+------------------------------+--------+\n",
            "only showing top 4 rows\n",
            "\n"
          ]
        }
      ]
    },
    {
      "cell_type": "code",
      "source": [
        "# Creating train and validation set\n",
        "train_df, valid_df = df1_.randomSplit([0.8, 0.2])"
      ],
      "metadata": {
        "id": "EynoOxdA7gVk"
      },
      "execution_count": null,
      "outputs": []
    },
    {
      "cell_type": "code",
      "source": [
        "evaluator = MulticlassClassificationEvaluator(labelCol='Survived',\n",
        "                                          metricName='accuracy')"
      ],
      "metadata": {
        "id": "-o_wGar_70dU"
      },
      "execution_count": null,
      "outputs": []
    },
    {
      "cell_type": "code",
      "source": [
        "#Ridge Regression model\n",
        "ridge = LogisticRegression(labelCol='Survived',\n",
        "                        maxIter=100,\n",
        "                        elasticNetParam=0,\n",
        "                        regParam=0.03)\n",
        "\n",
        "model = ridge.fit(train_df)\n",
        "pred = model.transform(valid_df)\n",
        "evaluator.evaluate(pred)"
      ],
      "metadata": {
        "colab": {
          "base_uri": "https://localhost:8080/"
        },
        "id": "g0pgV_jN75Uj",
        "outputId": "3842fd4c-6dc2-4124-8b1b-86f99e15c9df"
      },
      "execution_count": null,
      "outputs": [
        {
          "output_type": "execute_result",
          "data": {
            "text/plain": [
              "0.7734806629834254"
            ]
          },
          "metadata": {},
          "execution_count": 35
        }
      ]
    },
    {
      "cell_type": "code",
      "source": [
        "#Lasso Regression model\n",
        "lasso = LogisticRegression(labelCol='Survived',\n",
        "                           maxIter=100,\n",
        "                           elasticNetParam=1,\n",
        "                           regParam=0.0003)\n",
        "\n",
        "model = lasso.fit(train_df)\n",
        "pred = model.transform(valid_df)\n",
        "evaluator.evaluate(pred)"
      ],
      "metadata": {
        "colab": {
          "base_uri": "https://localhost:8080/"
        },
        "id": "jSJSy_qY9fYY",
        "outputId": "47c3cdd3-f81f-4dda-be9a-c8c3a89b1acb"
      },
      "execution_count": null,
      "outputs": [
        {
          "output_type": "execute_result",
          "data": {
            "text/plain": [
              "0.7955801104972375"
            ]
          },
          "metadata": {},
          "execution_count": 36
        }
      ]
    },
    {
      "cell_type": "code",
      "source": [
        "#Random Forest Classifier Model\n",
        "rf = RandomForestClassifier(labelCol='Survived',\n",
        "                           numTrees=100, maxDepth=3)\n",
        "\n",
        "model = rf.fit(train_df)\n",
        "pred = model.transform(valid_df)\n",
        "evaluator.evaluate(pred)"
      ],
      "metadata": {
        "colab": {
          "base_uri": "https://localhost:8080/"
        },
        "id": "a79TrraA9zff",
        "outputId": "f7cd8481-6e60-4659-de16-c983ec9a6075"
      },
      "execution_count": null,
      "outputs": [
        {
          "output_type": "execute_result",
          "data": {
            "text/plain": [
              "0.7845303867403315"
            ]
          },
          "metadata": {},
          "execution_count": 37
        }
      ]
    },
    {
      "cell_type": "code",
      "source": [
        "#Gradient Boosting Classifier\n",
        "gb = GBTClassifier(labelCol='Survived', maxIter=100, maxDepth=3)\n",
        "\n",
        "model = gb.fit(train_df)\n",
        "pred = model.transform(valid_df)\n",
        "evaluator.evaluate(pred)"
      ],
      "metadata": {
        "colab": {
          "base_uri": "https://localhost:8080/"
        },
        "id": "Gei6kxSu_Fp1",
        "outputId": "2fae345d-1db4-4ce6-eb55-30ec1dcc9665"
      },
      "execution_count": null,
      "outputs": [
        {
          "output_type": "execute_result",
          "data": {
            "text/plain": [
              "0.8066298342541437"
            ]
          },
          "metadata": {},
          "execution_count": 38
        }
      ]
    },
    {
      "cell_type": "markdown",
      "source": [
        "## **Test Data Prepare**"
      ],
      "metadata": {
        "id": "DT1ys-lN_rSa"
      }
    },
    {
      "cell_type": "code",
      "source": [
        "df2 = spark.read.csv('/content/test.csv',\n",
        "                     header=True, inferSchema=True)"
      ],
      "metadata": {
        "id": "i8buY86du-eQ"
      },
      "execution_count": null,
      "outputs": []
    },
    {
      "cell_type": "code",
      "source": [
        "#Prepareing Test Dataset\n",
        "df2 = df2.fillna({'Embarked': 'S', 'Fare':14.45})\n",
        "df2 = df2.withColumn('FamilySize', df2['Parch'] + df2['SibSp']).\\\n",
        "            drop('Parch', 'SibSp')"
      ],
      "metadata": {
        "id": "H1dRq6Mt_fjc"
      },
      "execution_count": null,
      "outputs": []
    },
    {
      "cell_type": "code",
      "source": [
        "#Same as for Train set\n",
        "df2 = df2.withColumn('Title', regexp_extract(df2['Name'],\\\n",
        "                '([A-Za-z]+)\\.', 1))\n",
        "\n",
        "df2 = df2.withColumn('Title', mapping[df2['Title']])\n",
        "\n",
        "df2.groupBy('Title').agg(count('Age'), mean('Age')).sort('count(Age)').show()"
      ],
      "metadata": {
        "colab": {
          "base_uri": "https://localhost:8080/"
        },
        "id": "3F8ZD5jr_wcL",
        "outputId": "a016aaec-ed11-476c-bac0-ec2ffff0f527"
      },
      "execution_count": null,
      "outputs": [
        {
          "output_type": "stream",
          "name": "stdout",
          "text": [
            "+------+----------+------------------+\n",
            "| Title|count(Age)|          avg(Age)|\n",
            "+------+----------+------------------+\n",
            "|Master|        17| 7.406470588235294|\n",
            "|   Mrs|        63|38.904761904761905|\n",
            "|  Miss|        64|21.774843750000002|\n",
            "|    Mr|       188|32.340425531914896|\n",
            "+------+----------+------------------+\n",
            "\n"
          ]
        }
      ]
    },
    {
      "cell_type": "code",
      "source": [
        "#Replacing Values\n",
        "df2 = age_imputer(df2, 'Mr', 32.34)\n",
        "df2 = age_imputer(df2, 'Mrs', 38.90)\n",
        "df2 = age_imputer(df2, 'Miss', 21.77)\n",
        "df2 = age_imputer(df2, 'Master', 7.41)\n",
        "\n",
        "df2 = df2.drop('Cabin', 'Name', 'Ticket', 'Title')\n",
        "df2.show(4)"
      ],
      "metadata": {
        "colab": {
          "base_uri": "https://localhost:8080/"
        },
        "id": "6I07hbi8_6aT",
        "outputId": "0a7906b7-21fa-48ed-b254-8afbd5c0bf00"
      },
      "execution_count": null,
      "outputs": [
        {
          "output_type": "stream",
          "name": "stdout",
          "text": [
            "+-----------+------+------+----+------+--------+----------+\n",
            "|PassengerId|Pclass|   Sex| Age|  Fare|Embarked|FamilySize|\n",
            "+-----------+------+------+----+------+--------+----------+\n",
            "|        892|     3|  male|34.5|7.8292|       Q|         0|\n",
            "|        893|     3|female|47.0|   7.0|       S|         1|\n",
            "|        894|     2|  male|62.0|9.6875|       Q|         0|\n",
            "|        895|     3|  male|27.0|8.6625|       S|         0|\n",
            "+-----------+------+------+----+------+--------+----------+\n",
            "only showing top 4 rows\n",
            "\n"
          ]
        }
      ]
    },
    {
      "cell_type": "code",
      "source": [
        "for col in df2.columns:\n",
        "    print(col.ljust(15), df2.filter(df2[col].isNull()).count())"
      ],
      "metadata": {
        "colab": {
          "base_uri": "https://localhost:8080/"
        },
        "id": "zKmnPGFnABra",
        "outputId": "a5463f62-80b0-4743-da4c-924fa704e5b3"
      },
      "execution_count": null,
      "outputs": [
        {
          "output_type": "stream",
          "name": "stdout",
          "text": [
            "PassengerId     0\n",
            "Pclass          0\n",
            "Sex             0\n",
            "Age             0\n",
            "Fare            0\n",
            "Embarked        0\n",
            "FamilySize      0\n"
          ]
        }
      ]
    },
    {
      "cell_type": "markdown",
      "source": [
        "## **Introduction of Pipeline**"
      ],
      "metadata": {
        "id": "WyetzdguAzlq"
      }
    },
    {
      "cell_type": "code",
      "source": [
        "#Creating pipelne\n",
        "pipeline_rf = Pipeline(stages=[stringIndex, vec_asmbl, rf])\n",
        "\n",
        "#Creating Grid\n",
        "paramGrid = ParamGridBuilder().\\\n",
        "            addGrid(rf.maxDepth, [3, 4, 5]).\\\n",
        "            addGrid(rf.minInfoGain, [0.001, 0.01, 0.1]).\\\n",
        "            addGrid(rf.numTrees, [100,500,1000]).\\\n",
        "            build()\n",
        "\n",
        "#Initializing crossvalidator\n",
        "selected_model = CrossValidator(estimator=pipeline_rf,\n",
        "                                estimatorParamMaps=paramGrid,\n",
        "                                evaluator=evaluator,\n",
        "                                numFolds=5)\n",
        "\n",
        "model_final = selected_model.fit(df1)\n",
        "pred_train = model_final.transform(df1)\n",
        "evaluator.evaluate(pred_train)"
      ],
      "metadata": {
        "colab": {
          "base_uri": "https://localhost:8080/"
        },
        "id": "L1sSxhRMAwO6",
        "outputId": "d2a21824-dd46-42d4-81cd-b0676de5aa99"
      },
      "execution_count": null,
      "outputs": [
        {
          "output_type": "execute_result",
          "data": {
            "text/plain": [
              "0.8484848484848485"
            ]
          },
          "metadata": {},
          "execution_count": 48
        }
      ]
    },
    {
      "cell_type": "code",
      "source": [
        "#Predicting from Test Data\n",
        "pred_test = model_final.transform(df2)\n",
        "\n",
        "#Getting only predictions\n",
        "predictions = pred_test.select('PassengerId', 'prediction')\n",
        "predictions = predictions.\\\n",
        "                withColumn('Survived', predictions['prediction'].\\\n",
        "                cast('integer')).drop('prediction')\n",
        "predictions.show(5)"
      ],
      "metadata": {
        "colab": {
          "base_uri": "https://localhost:8080/"
        },
        "id": "xIUlnbH0LHzo",
        "outputId": "890e0117-6476-43f2-8230-2d02512a22e8"
      },
      "execution_count": null,
      "outputs": [
        {
          "output_type": "stream",
          "name": "stdout",
          "text": [
            "+-----------+--------+\n",
            "|PassengerId|Survived|\n",
            "+-----------+--------+\n",
            "|        892|       0|\n",
            "|        893|       0|\n",
            "|        894|       0|\n",
            "|        895|       0|\n",
            "|        896|       1|\n",
            "+-----------+--------+\n",
            "only showing top 5 rows\n",
            "\n"
          ]
        }
      ]
    },
    {
      "cell_type": "code",
      "source": [
        "#Saving the Model\n",
        "model_final.write().save('titanic_classification.model')"
      ],
      "metadata": {
        "id": "k-NMbi6_MFHO"
      },
      "execution_count": null,
      "outputs": []
    },
    {
      "cell_type": "code",
      "source": [
        "# Load the saved model\n",
        "from pyspark.ml.tuning import CrossValidatorModel\n",
        "\n",
        "loaded_model = CrossValidatorModel.load('titanic_classification.model')"
      ],
      "metadata": {
        "id": "RhWRBS-VMI02"
      },
      "execution_count": null,
      "outputs": []
    }
  ]
}