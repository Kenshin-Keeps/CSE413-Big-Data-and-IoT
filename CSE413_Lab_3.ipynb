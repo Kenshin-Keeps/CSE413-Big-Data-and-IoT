{
  "nbformat": 4,
  "nbformat_minor": 0,
  "metadata": {
    "colab": {
      "provenance": []
    },
    "kernelspec": {
      "name": "python3",
      "display_name": "Python 3"
    },
    "language_info": {
      "name": "python"
    }
  },
  "cells": [
    {
      "cell_type": "markdown",
      "source": [
        "# **Data Processing Operations using Pyspark**"
      ],
      "metadata": {
        "id": "Mk3pkc0TOpwG"
      }
    },
    {
      "cell_type": "code",
      "execution_count": null,
      "metadata": {
        "id": "sIoKu1Yhld3T"
      },
      "outputs": [],
      "source": [
        "!apt-get install openjdk-8-jdk-headless -qq > /dev/null\n",
        "!wget -q http://archive.apache.org/dist/spark/spark-3.1.1/spark-3.1.1-bin-hadoop3.2.tgz\n",
        "!tar xf spark-3.1.1-bin-hadoop3.2.tgz\n",
        "!pip install -q findspark\n",
        "\n",
        "import os\n",
        "os.environ[\"JAVA_HOME\"] = \"/usr/lib/jvm/java-8-openjdk-amd64\"\n",
        "os.environ[\"SPARK_HOME\"] = \"/content/spark-3.1.1-bin-hadoop3.2\""
      ]
    },
    {
      "cell_type": "code",
      "source": [
        "import findspark\n",
        "findspark.init()"
      ],
      "metadata": {
        "id": "O3242tdCmFZm"
      },
      "execution_count": null,
      "outputs": []
    },
    {
      "cell_type": "markdown",
      "source": [
        "Loading Dataset\n"
      ],
      "metadata": {
        "id": "0aYQQa1FnHx2"
      }
    },
    {
      "cell_type": "code",
      "source": [
        "from pyspark.sql import SparkSession\n",
        "spark = SparkSession.builder.appName(\"NumericalProcessing\").getOrCreate()\n",
        "data = spark.read.csv(\"/content/sample_data/california_housing_train.csv\", header=True, inferSchema=True)\n",
        "data.show(5)"
      ],
      "metadata": {
        "id": "s7bJgm23nIze"
      },
      "execution_count": null,
      "outputs": []
    },
    {
      "cell_type": "markdown",
      "source": [
        "Getting Column Names"
      ],
      "metadata": {
        "id": "N2MUszyowci0"
      }
    },
    {
      "cell_type": "code",
      "source": [
        "colNames = data.columns\n",
        "colNames"
      ],
      "metadata": {
        "id": "XpG9eQsmoer_"
      },
      "execution_count": null,
      "outputs": []
    },
    {
      "cell_type": "markdown",
      "source": [
        "Basic Operations"
      ],
      "metadata": {
        "id": "wWO7OX3Gooc3"
      }
    },
    {
      "cell_type": "code",
      "source": [
        "from pyspark.sql.functions import col\n",
        "res_data = data.withColumn(\"longitude_latitude_sum\", col(\"longitude\")+col(\"latitude\"))\n",
        "res_data.show(5)"
      ],
      "metadata": {
        "colab": {
          "base_uri": "https://localhost:8080/"
        },
        "id": "toL37G-copFY",
        "outputId": "84ba734a-3be2-4841-d498-2b08ff88c493"
      },
      "execution_count": null,
      "outputs": [
        {
          "output_type": "stream",
          "name": "stdout",
          "text": [
            "+---------+--------+------------------+-----------+--------------+----------+----------+-------------+------------------+----------------------+\n",
            "|longitude|latitude|housing_median_age|total_rooms|total_bedrooms|population|households|median_income|median_house_value|longitude_latitude_sum|\n",
            "+---------+--------+------------------+-----------+--------------+----------+----------+-------------+------------------+----------------------+\n",
            "|  -114.31|   34.19|              15.0|     5612.0|        1283.0|    1015.0|     472.0|       1.4936|           66900.0|                -80.12|\n",
            "|  -114.47|    34.4|              19.0|     7650.0|        1901.0|    1129.0|     463.0|         1.82|           80100.0|                -80.07|\n",
            "|  -114.56|   33.69|              17.0|      720.0|         174.0|     333.0|     117.0|       1.6509|           85700.0|                -80.87|\n",
            "|  -114.57|   33.64|              14.0|     1501.0|         337.0|     515.0|     226.0|       3.1917|           73400.0|    -80.92999999999999|\n",
            "|  -114.57|   33.57|              20.0|     1454.0|         326.0|     624.0|     262.0|        1.925|           65500.0|                 -81.0|\n",
            "+---------+--------+------------------+-----------+--------------+----------+----------+-------------+------------------+----------------------+\n",
            "only showing top 5 rows\n",
            "\n"
          ]
        }
      ]
    },
    {
      "cell_type": "markdown",
      "source": [
        "Aggregation Operations"
      ],
      "metadata": {
        "id": "0Aqj9QtEpIRf"
      }
    },
    {
      "cell_type": "markdown",
      "source": [
        "Sorting By a Column"
      ],
      "metadata": {
        "id": "eO652UZ0yTXh"
      }
    },
    {
      "cell_type": "code",
      "source": [
        "from pyspark.sql.functions import avg, sum, max\n",
        "avg_res = data.select(avg(\"latitude\")).first()[0]\n",
        "sum_res = data.select(sum(\"latitude\")).first()[0]\n",
        "max_res = data.select(max(\"latitude\")).first()[0]\n",
        "print(avg_res, sum_res, max_res)"
      ],
      "metadata": {
        "colab": {
          "base_uri": "https://localhost:8080/"
        },
        "id": "Ep3-rYNupIy_",
        "outputId": "af8b1300-e1cd-4034-f874-d0b9add7f568"
      },
      "execution_count": null,
      "outputs": [
        {
          "output_type": "stream",
          "name": "stdout",
          "text": [
            "35.6252247058827 605628.8200000059 41.95\n"
          ]
        }
      ]
    },
    {
      "cell_type": "markdown",
      "source": [
        "Filtering"
      ],
      "metadata": {
        "id": "QUZ4ujnMxvF6"
      }
    },
    {
      "cell_type": "code",
      "source": [],
      "metadata": {
        "id": "wrE_MN-MyVvg"
      },
      "execution_count": null,
      "outputs": []
    },
    {
      "cell_type": "code",
      "source": [
        "filter_res = data.filter(col(\"population\")>1000)\n",
        "filter_res.show()"
      ],
      "metadata": {
        "id": "mSa6UeKFxyyK"
      },
      "execution_count": null,
      "outputs": []
    },
    {
      "cell_type": "code",
      "source": [
        "sorted_by_rooms = data.orderBy(\"total_rooms\")\n",
        "sorted_by_rooms.show()"
      ],
      "metadata": {
        "id": "NCLqe1omyYOi"
      },
      "execution_count": null,
      "outputs": []
    },
    {
      "cell_type": "markdown",
      "source": [
        "Statistical Opeartions"
      ],
      "metadata": {
        "id": "qPm2FgNvynny"
      }
    },
    {
      "cell_type": "code",
      "source": [
        "from pyspark.sql.functions import mean, stddev\n",
        "mean_res = data.select(mean(\"total_bedrooms\")).first()[0]\n",
        "std_res = data.select(stddev(\"total_bedrooms\")).first()[0]\n",
        "print(mean_res, std_res)"
      ],
      "metadata": {
        "colab": {
          "base_uri": "https://localhost:8080/"
        },
        "id": "3A8k5a7jyofq",
        "outputId": "6d8950b1-8e1d-4f29-e9f6-cad876ff8eb5"
      },
      "execution_count": null,
      "outputs": [
        {
          "output_type": "stream",
          "name": "stdout",
          "text": [
            "539.4108235294118 421.4994515798648\n"
          ]
        }
      ]
    },
    {
      "cell_type": "markdown",
      "source": [
        "Feature Engineering"
      ],
      "metadata": {
        "id": "2VqMtEWzy5bi"
      }
    },
    {
      "cell_type": "code",
      "source": [
        "from pyspark.sql.functions import sqrt\n",
        "sqrt_data = data.withColumn(\"households_sqrt\", sqrt(col(\"households\")))\n",
        "sqrt_data.show(5)"
      ],
      "metadata": {
        "id": "2Rp9LzYsy6GC"
      },
      "execution_count": null,
      "outputs": []
    },
    {
      "cell_type": "markdown",
      "source": [
        "Missing Data Handling"
      ],
      "metadata": {
        "id": "XAcgMdqNzThy"
      }
    },
    {
      "cell_type": "code",
      "source": [
        "from pyspark.sql.functions import when\n",
        "\n",
        "filled_df = data.withColumn(\"filled_rooms\", when(col(\"total_rooms\").isNull(), 0).otherwise(col(\"total_rooms\")))\n",
        "filled_df.show()"
      ],
      "metadata": {
        "id": "W9TCJTMVzWcl"
      },
      "execution_count": null,
      "outputs": []
    },
    {
      "cell_type": "markdown",
      "source": [
        "User Defined Functions"
      ],
      "metadata": {
        "id": "3PQ-UmTMz1oq"
      }
    },
    {
      "cell_type": "code",
      "source": [
        "from pyspark.sql.functions import udf\n",
        "from pyspark.sql.types import DoubleType\n",
        "\n",
        "def custom_function(value):\n",
        "    return value * 2\n",
        "\n",
        "custom_udf = udf(custom_function, DoubleType())\n",
        "result_df = data.withColumn(\"custom_col\", custom_udf(col(\"median_income\")))\n",
        "result_df.show()"
      ],
      "metadata": {
        "id": "pfVa16PQz2Mi"
      },
      "execution_count": null,
      "outputs": []
    },
    {
      "cell_type": "markdown",
      "source": [
        "Text Processing"
      ],
      "metadata": {
        "id": "sChIGylQ1e4z"
      }
    },
    {
      "cell_type": "code",
      "source": [
        "txt_data = spark.read.text(\"lorem.txt\")\n",
        "txt_data.show()"
      ],
      "metadata": {
        "id": "gh1XTGtI1iCj"
      },
      "execution_count": null,
      "outputs": []
    },
    {
      "cell_type": "markdown",
      "source": [
        "Tokenization"
      ],
      "metadata": {
        "id": "DQkOmnfo1mvq"
      }
    },
    {
      "cell_type": "code",
      "source": [
        "from pyspark.ml.feature import Tokenizer\n",
        "\n",
        "tokenizer = Tokenizer(inputCol=\"value\", outputCol=\"words\")\n",
        "tokenized_data = tokenizer.transform(txt_data)\n",
        "tokenized_data.show()"
      ],
      "metadata": {
        "id": "wE__I-Kv1ob7"
      },
      "execution_count": null,
      "outputs": []
    },
    {
      "cell_type": "markdown",
      "source": [
        "Stop word removal"
      ],
      "metadata": {
        "id": "8PU-gUnR1tgD"
      }
    },
    {
      "cell_type": "code",
      "source": [
        "from pyspark.ml.feature import StopWordsRemover\n",
        "\n",
        "remover = StopWordsRemover(inputCol=\"words\", outputCol=\"filtered_words\")\n",
        "filtered_data = remover.transform(tokenized_data)\n",
        "filtered_data.show()"
      ],
      "metadata": {
        "id": "AQaPPTmt1uFz"
      },
      "execution_count": null,
      "outputs": []
    },
    {
      "cell_type": "markdown",
      "source": [
        "Text Cleaning"
      ],
      "metadata": {
        "id": "DY_-VL3R1zUb"
      }
    },
    {
      "cell_type": "code",
      "source": [
        "from pyspark.sql.functions import regexp_replace, lower\n",
        "\n",
        "cleaned_data = filtered_data.withColumn(\"cleaned_text\",\n",
        "                  lower(regexp_replace(col(\"value\"), \"[^a-zA-Z\\\\s]\", \"\")))\n",
        "cleaned_data.show()"
      ],
      "metadata": {
        "id": "4YWRX_W11z_q"
      },
      "execution_count": null,
      "outputs": []
    },
    {
      "cell_type": "markdown",
      "source": [
        "Text Analysis"
      ],
      "metadata": {
        "id": "h5jyRmhW14yL"
      }
    },
    {
      "cell_type": "code",
      "source": [
        "from pyspark.sql.functions import length\n",
        "\n",
        "data_with_length = cleaned_data.withColumn(\"text_length\", length(col(\"cleaned_text\")))\n",
        "avg_length = data_with_length.agg({\"text_length\": \"avg\"}).collect()[0][0]\n",
        "avg_length"
      ],
      "metadata": {
        "colab": {
          "base_uri": "https://localhost:8080/"
        },
        "id": "TwUAy1I615RS",
        "outputId": "ded5dfcc-82e8-45b1-fc41-c8915ad97ddd"
      },
      "execution_count": null,
      "outputs": [
        {
          "output_type": "execute_result",
          "data": {
            "text/plain": [
              "78.44444444444444"
            ]
          },
          "metadata": {},
          "execution_count": 19
        }
      ]
    }
  ]
}