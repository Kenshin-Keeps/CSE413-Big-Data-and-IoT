{
  "nbformat": 4,
  "nbformat_minor": 0,
  "metadata": {
    "colab": {
      "provenance": []
    },
    "kernelspec": {
      "name": "python3",
      "display_name": "Python 3"
    },
    "language_info": {
      "name": "python"
    }
  },
  "cells": [
    {
      "cell_type": "markdown",
      "source": [
        "# **Linear Regression Model Implementation using Pyspark**"
      ],
      "metadata": {
        "id": "GbEDzRdwSVk0"
      }
    },
    {
      "cell_type": "code",
      "execution_count": null,
      "metadata": {
        "id": "QKwPWrxERqyH"
      },
      "outputs": [],
      "source": [
        "#Installation\n",
        "!apt-get install openjdk-8-jdk-headless -qq > /dev/null\n",
        "!wget -q http://archive.apache.org/dist/spark/spark-3.1.1/spark-3.1.1-bin-hadoop3.2.tgz\n",
        "!tar xf spark-3.1.1-bin-hadoop3.2.tgz\n",
        "!pip install -q findspark\n",
        "\n",
        "import os\n",
        "os.environ[\"JAVA_HOME\"] = \"/usr/lib/jvm/java-8-openjdk-amd64\"\n",
        "os.environ[\"SPARK_HOME\"] = \"/content/spark-3.1.1-bin-hadoop3.2\""
      ]
    },
    {
      "cell_type": "code",
      "source": [
        "#spark\n",
        "import findspark\n",
        "findspark.init()"
      ],
      "metadata": {
        "id": "Q51m-Kl9R2Gd"
      },
      "execution_count": null,
      "outputs": []
    },
    {
      "cell_type": "code",
      "source": [
        "#Creating Session\n",
        "from pyspark.sql import SparkSession\n",
        "spark = SparkSession.builder.appName(\"LinearRegressionwithSpark\").getOrCreate()"
      ],
      "metadata": {
        "id": "tBLH5d2JR4fa"
      },
      "execution_count": null,
      "outputs": []
    },
    {
      "cell_type": "markdown",
      "source": [
        "# **Import Packages**"
      ],
      "metadata": {
        "id": "A0UBCq4pXnQ2"
      }
    },
    {
      "cell_type": "code",
      "source": [
        "from pyspark import SparkFiles\n",
        "from pyspark.ml.regression import LinearRegression\n",
        "from pyspark.ml.feature import VectorAssembler\n",
        "from pyspark.ml.evaluation import RegressionEvaluator"
      ],
      "metadata": {
        "id": "g-U0joCqVcFK"
      },
      "execution_count": null,
      "outputs": []
    },
    {
      "cell_type": "markdown",
      "source": [
        "# **Load Dataset**"
      ],
      "metadata": {
        "id": "XSYF18yVXw_E"
      }
    },
    {
      "cell_type": "code",
      "source": [
        "url = \"https://raw.githubusercontent.com/selva86/datasets/master/BostonHousing.csv\"\n",
        "spark.sparkContext.addFile(url)\n",
        "\n",
        "data = spark.read.csv(SparkFiles.get(\"BostonHousing.csv\"), header=True, inferSchema=True)\n",
        "data.show(5)"
      ],
      "metadata": {
        "colab": {
          "base_uri": "https://localhost:8080/"
        },
        "id": "5k3s9ClCVjUB",
        "outputId": "db5747e0-8a38-4495-fe09-f5cd2f90fcd4"
      },
      "execution_count": null,
      "outputs": [
        {
          "output_type": "stream",
          "name": "stdout",
          "text": [
            "+-------+----+-----+----+-----+-----+----+------+---+---+-------+------+-----+----+\n",
            "|   crim|  zn|indus|chas|  nox|   rm| age|   dis|rad|tax|ptratio|     b|lstat|medv|\n",
            "+-------+----+-----+----+-----+-----+----+------+---+---+-------+------+-----+----+\n",
            "|0.00632|18.0| 2.31|   0|0.538|6.575|65.2|  4.09|  1|296|   15.3| 396.9| 4.98|24.0|\n",
            "|0.02731| 0.0| 7.07|   0|0.469|6.421|78.9|4.9671|  2|242|   17.8| 396.9| 9.14|21.6|\n",
            "|0.02729| 0.0| 7.07|   0|0.469|7.185|61.1|4.9671|  2|242|   17.8|392.83| 4.03|34.7|\n",
            "|0.03237| 0.0| 2.18|   0|0.458|6.998|45.8|6.0622|  3|222|   18.7|394.63| 2.94|33.4|\n",
            "|0.06905| 0.0| 2.18|   0|0.458|7.147|54.2|6.0622|  3|222|   18.7| 396.9| 5.33|36.2|\n",
            "+-------+----+-----+----+-----+-----+----+------+---+---+-------+------+-----+----+\n",
            "only showing top 5 rows\n",
            "\n"
          ]
        }
      ]
    },
    {
      "cell_type": "markdown",
      "source": [
        "# **Prepare Data**"
      ],
      "metadata": {
        "id": "MOci_X7yX2z0"
      }
    },
    {
      "cell_type": "code",
      "source": [
        "assembler = VectorAssembler(\n",
        "    inputCols=[\"crim\", \"zn\", \"indus\", \"chas\", \"nox\", \"rm\", \"age\", \"dis\", \"rad\", \"tax\", \"ptratio\", \"b\", \"lstat\"],\n",
        "    outputCol=\"features\")\n",
        "\n",
        "data = assembler.transform(data)\n",
        "final_data = data.select(\"features\", \"medv\")\n",
        "\n",
        "train_data, test_data = final_data.randomSplit([0.8, 0.2], seed=42)"
      ],
      "metadata": {
        "id": "Sm69ff8RW5mH"
      },
      "execution_count": null,
      "outputs": []
    },
    {
      "cell_type": "markdown",
      "source": [
        "# **Prepare The Model**"
      ],
      "metadata": {
        "id": "7nR-asLmX7QM"
      }
    },
    {
      "cell_type": "code",
      "source": [
        "lr = LinearRegression(featuresCol=\"features\", labelCol=\"medv\", predictionCol=\"predicted_medv\")\n",
        "lr_model = lr.fit(train_data)"
      ],
      "metadata": {
        "id": "RpaazRDxXNH-"
      },
      "execution_count": null,
      "outputs": []
    },
    {
      "cell_type": "markdown",
      "source": [
        "# **Evaluate Performance**"
      ],
      "metadata": {
        "id": "3qUWVYcFYUAj"
      }
    },
    {
      "cell_type": "code",
      "source": [
        "predictions = lr_model.transform(test_data)\n",
        "\n",
        "evaluator = RegressionEvaluator(labelCol=\"medv\", predictionCol=\"predicted_medv\", metricName=\"rmse\")\n",
        "rmse = evaluator.evaluate(predictions)\n",
        "print(\"Root Mean Squared Error (RMSE) on test data: {:.3f}\".format(rmse))\n",
        "\n",
        "evaluator_mse = RegressionEvaluator(labelCol=\"medv\", predictionCol=\"predicted_medv\", metricName=\"mse\")\n",
        "mse = evaluator_mse.evaluate(predictions)\n",
        "print(\"MSE on test data: {:.3f}\".format(mse))"
      ],
      "metadata": {
        "colab": {
          "base_uri": "https://localhost:8080/"
        },
        "id": "D5ucoR4eX_Kc",
        "outputId": "0a3cf087-3611-4381-bc1c-713201d83f47"
      },
      "execution_count": null,
      "outputs": [
        {
          "output_type": "stream",
          "name": "stdout",
          "text": [
            "Root Mean Squared Error (RMSE) on test data: 4.672\n",
            "MSE on test data: 21.826\n"
          ]
        }
      ]
    },
    {
      "cell_type": "markdown",
      "source": [
        "# **Inspect Model Co-efficient and Intercept**"
      ],
      "metadata": {
        "id": "5zsO6NyMYgAE"
      }
    },
    {
      "cell_type": "code",
      "source": [
        "coefficients = lr_model.coefficients\n",
        "intercept = lr_model.intercept\n",
        "\n",
        "print(\"Coefficients: \", coefficients)\n",
        "print(\"Intercept: {:.3f}\".format(intercept))"
      ],
      "metadata": {
        "colab": {
          "base_uri": "https://localhost:8080/"
        },
        "id": "A638QKFDYbQU",
        "outputId": "eacda164-f553-42c8-d4af-e640594b0cbe"
      },
      "execution_count": null,
      "outputs": [
        {
          "output_type": "stream",
          "name": "stdout",
          "text": [
            "Coefficients:  [-0.1136220372940893,0.04890918693405423,0.02379542898673218,2.8017719987351315,-18.41542454118947,3.5158797633119243,0.005211682161471423,-1.416383072353979,0.33176693159370374,-0.013607893704163855,-0.9534143338408103,0.008602677392853194,-0.5195035312476691]\n",
            "Intercept: 38.617\n"
          ]
        }
      ]
    },
    {
      "cell_type": "markdown",
      "source": [
        "# **Analyze Feature importance**"
      ],
      "metadata": {
        "id": "Fl5Co0rcZvYC"
      }
    },
    {
      "cell_type": "code",
      "source": [
        "feature_importance = sorted(list(zip(data.columns[:-1], map(abs, coefficients))), key=lambda x: x[1], reverse=True)\n",
        "\n",
        "print(\"Feature Importance:\")\n",
        "for feature, importance in feature_importance:\n",
        "    print(\"  {}: {:.3f}\".format(feature, importance))"
      ],
      "metadata": {
        "colab": {
          "base_uri": "https://localhost:8080/"
        },
        "id": "lCCrwCGEZ07g",
        "outputId": "55a60f8e-918f-4d46-9bda-321ea43e19f2"
      },
      "execution_count": null,
      "outputs": [
        {
          "output_type": "stream",
          "name": "stdout",
          "text": [
            "Feature Importance:\n",
            "  nox: 18.415\n",
            "  rm: 3.516\n",
            "  chas: 2.802\n",
            "  dis: 1.416\n",
            "  ptratio: 0.953\n",
            "  lstat: 0.520\n",
            "  rad: 0.332\n",
            "  crim: 0.114\n",
            "  zn: 0.049\n",
            "  indus: 0.024\n",
            "  tax: 0.014\n",
            "  b: 0.009\n",
            "  age: 0.005\n"
          ]
        }
      ]
    },
    {
      "cell_type": "markdown",
      "source": [
        "# **Save and Load the Model**"
      ],
      "metadata": {
        "id": "KrBFKxFraDvg"
      }
    },
    {
      "cell_type": "code",
      "source": [
        "lr_model.save(\"lr_model\")\n",
        "\n",
        "# Load the model\n",
        "from pyspark.ml.regression import LinearRegressionModel\n",
        "loaded_model = LinearRegressionModel.load(\"lr_model\")"
      ],
      "metadata": {
        "id": "mympSxF1aLdO"
      },
      "execution_count": null,
      "outputs": []
    }
  ]
}